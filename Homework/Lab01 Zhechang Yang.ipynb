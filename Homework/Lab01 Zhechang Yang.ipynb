{
 "cells": [
  {
   "cell_type": "markdown",
   "metadata": {},
   "source": [
    "For this first set of exercises, we want to practice using only Python standard libaries. In particular, do not include `numpy`. Use `math` and `random` instead."
   ]
  },
  {
   "cell_type": "markdown",
   "metadata": {},
   "source": [
    "# Python data types, collections and flow control"
   ]
  },
  {
   "cell_type": "markdown",
   "metadata": {},
   "source": [
    "**1**. Make a list of the first 10 odd square numbers. (10 points)"
   ]
  },
  {
   "cell_type": "code",
   "execution_count": 1,
   "metadata": {},
   "outputs": [
    {
     "name": "stdout",
     "output_type": "stream",
     "text": [
      "[1, 9, 25, 49, 81, 121, 169, 225, 289, 361]\n"
     ]
    }
   ],
   "source": [
    "res = [(i*2+1)**2 for i in range(10)]\n",
    "print (res)"
   ]
  },
  {
   "cell_type": "markdown",
   "metadata": {},
   "source": [
    "**2**. Some code is given below to generate two long lists of random interges. Find the integers present in both lists. (10 points)"
   ]
  },
  {
   "cell_type": "code",
   "execution_count": 2,
   "metadata": {},
   "outputs": [],
   "source": [
    "import random\n",
    "\n",
    "random.seed(123)\n",
    "\n",
    "lower = 0\n",
    "upper = 100000\n",
    "n = 1000\n",
    "\n",
    "x = [random.randint(lower, upper) for i in range(n)]\n",
    "y = [random.randint(lower, upper) for i in range(n)]"
   ]
  },
  {
   "cell_type": "code",
   "execution_count": 3,
   "metadata": {},
   "outputs": [
    {
     "name": "stdout",
     "output_type": "stream",
     "text": [
      "[49492, 2137, 56780, 8420, 35160, 25227, 8509, 88500, 99469, 59512, 18836]\n"
     ]
    }
   ],
   "source": [
    "res = []\n",
    "for i in x:\n",
    "    for j in y:\n",
    "        if i == j:\n",
    "            res.append(i)\n",
    "print (res)"
   ]
  },
  {
   "cell_type": "markdown",
   "metadata": {},
   "source": [
    "**3**. Make a list of the first 100 [triangular numbers](https://en.wikipedia.org/wiki/Triangular_number) starting from 0. (20 points)"
   ]
  },
  {
   "cell_type": "code",
   "execution_count": 4,
   "metadata": {},
   "outputs": [
    {
     "name": "stdout",
     "output_type": "stream",
     "text": [
      "[0, 1, 3, 6, 10, 15, 21, 28, 36, 45, 55, 66, 78, 91, 105, 120, 136, 153, 171, 190, 210, 231, 253, 276, 300, 325, 351, 378, 406, 435, 465, 496, 528, 561, 595, 630, 666, 703, 741, 780, 820, 861, 903, 946, 990, 1035, 1081, 1128, 1176, 1225, 1275, 1326, 1378, 1431, 1485, 1540, 1596, 1653, 1711, 1770, 1830, 1891, 1953, 2016, 2080, 2145, 2211, 2278, 2346, 2415, 2485, 2556, 2628, 2701, 2775, 2850, 2926, 3003, 3081, 3160, 3240, 3321, 3403, 3486, 3570, 3655, 3741, 3828, 3916, 4005, 4095, 4186, 4278, 4371, 4465, 4560, 4656, 4753, 4851, 4950]\n"
     ]
    }
   ],
   "source": [
    "res = []\n",
    "prev = 0\n",
    "for i in range(100):\n",
    "    prev += i\n",
    "    res.append(prev)\n",
    "print (res)"
   ]
  },
  {
   "cell_type": "markdown",
   "metadata": {},
   "source": [
    "**4**. A DNA seqeunce is provided below. It should be treated as a single seqeunce - it is borken into multiple lines for display purposes.\n",
    "\n",
    "- Find the ratio of the base 'G' to the base 'C'\n",
    "- What is the reverse complement of the DNA sequence? (The complementary bases are A=T, C=G)\n",
    "- Make a dictionary of counts for each letter in the sequence. Do not count the newline character.\n",
    "\n",
    "(20 points)"
   ]
  },
  {
   "cell_type": "code",
   "execution_count": 5,
   "metadata": {},
   "outputs": [],
   "source": [
    "dna = \"\"\"\n",
    "TTTAAATTCCCTGGCACCCGCTGGAGTTCTCGATTTCGAC\n",
    "CAACCACGACGGTGTGATTCTGAATGTAGTTAGTATCTAC\n",
    "CCAGAGCTCAGGTCATATCGCGCCAAGCATAAAGGTGGCT\n",
    "GTTGAAAGTCGATGTCCGTATAAGTTCCGTTTCCTAATGA\n",
    "AACTGCTACGTAAGTCTAAAGTTATGAGCGCGGGCCGGGT\n",
    "TAAGGAAGCCCTACGGTTACTATATTACGCCAATATTTCT\n",
    "CATTCCCTTGCTTTGTTGATTAGGACAGAGGTCACCACAC\n",
    "CCGGAAGCCCGGTTCACGAGCTCCATCCAACGAGCCTTGC\n",
    "GAGGTATCGAGCAAACCAATATACTGCTAGGATCCGGTCT\n",
    "GGCGTTTTACCCCCATGAGATATAGTCCAGGTACTAAAAC\n",
    "CCTTCACCAGGGCAGAAGCGGGGTATACGCTGCCTACTCG\n",
    "TCATACAATTTCGGCTGGAGTTCGGTACGATAGACCGAGT\n",
    "CTGTCGGATACCCGGAAGAGTCACTCTGAAGTTGTACGAG\n",
    "GTGACTAGCTCAAAAGGAAGGGCGAAGAATGGTATGGTAC\n",
    "TCTAGAGCAGGCCATCTTTTACATAGGGCCCTTTGTTACC\n",
    "TTATGTAATGAACGTGGGAGCCCCGGACGTAAATTCTTTA\n",
    "GTCTCCCTAGACGCGTGGTCCCCACTAAATATACATGGTG\n",
    "AGCATCGCAGATACATGGCTTATCGAGGCCCGGGTCGTCA\n",
    "GAAAACGCGGTAAGTCATACGCATGTGCGGCGAATTAGCT\n",
    "TAGGGTGCGCATCTTCAAGCGGAAGTTCCCCCCGAGTGTC\n",
    "GACGCGTTCGTGCCATTAAAGCGTCTTCGAGTACGAATTA\n",
    "GACCAAGTCTGACGAAATTGCCTGAAGTTATAGGGGAAGT\n",
    "AGTCGAAGGGGACGGAGAACTTGTGAATCATAGCGCATGA\n",
    "GGAGATTAAGTCGGTTCATCAGCGTAACCACTTTAACCAC\n",
    "TAGTACGACCCCTGGATGAGTATTGTTCGTGTGTTTCCTC\n",
    "\"\"\""
   ]
  },
  {
   "cell_type": "code",
   "execution_count": 6,
   "metadata": {},
   "outputs": [
    {
     "name": "stdout",
     "output_type": "stream",
     "text": [
      "1.0886075949367089\n"
     ]
    }
   ],
   "source": [
    "count_g = 0\n",
    "count_c = 0\n",
    "for s in dna:\n",
    "    if s == 'G':\n",
    "        count_g += 1\n",
    "    if s == 'C':\n",
    "        count_c += 1\n",
    "        \n",
    "print (count_g/float(count_c))"
   ]
  },
  {
   "cell_type": "code",
   "execution_count": 7,
   "metadata": {},
   "outputs": [
    {
     "name": "stdout",
     "output_type": "stream",
     "text": [
      "GAGGAAACACACGAACAATACTCATCCAGGGGTCGTACTAGTGGTTAAAGTGGTTACGCTGATGAACCGACTTAATCTCCTCATGCGCTATGATTCACAAGTTCTCCGTCCCCTTCGACTACTTCCCCTATAACTTCAGGCAATTTCGTCAGACTTGGTCTAATTCGTACTCGAAGACGCTTTAATGGCACGAACGCGTCGACACTCGGGGGGAACTTCCGCTTGAAGATGCGCACCCTAAGCTAATTCGCCGCACATGCGTATGACTTACCGCGTTTTCTGACGACCCGGGCCTCGATAAGCCATGTATCTGCGATGCTCACCATGTATATTTAGTGGGGACCACGCGTCTAGGGAGACTAAAGAATTTACGTCCGGGGCTCCCACGTTCATTACATAAGGTAACAAAGGGCCCTATGTAAAAGATGGCCTGCTCTAGAGTACCATACCATTCTTCGCCCTTCCTTTTGAGCTAGTCACCTCGTACAACTTCAGAGTGACTCTTCCGGGTATCCGACAGACTCGGTCTATCGTACCGAACTCCAGCCGAAATTGTATGACGAGTAGGCAGCGTATACCCCGCTTCTGCCCTGGTGAAGGGTTTTAGTACCTGGACTATATCTCATGGGGGTAAAACGCCAGACCGGATCCTAGCAGTATATTGGTTTGCTCGATACCTCGCAAGGCTCGTTGGATGGAGCTCGTGAACCGGGCTTCCGGGTGTGGTGACCTCTGTCCTAATCAACAAAGCAAGGGAATGAGAAATATTGGCGTAATATAGTAACCGTAGGGCTTCCTTAACCCGGCCCGCGCTCATAACTTTAGACTTACGTAGCAGTTTCATTAGGAAACGGAACTTATACGGACATCGACTTTCAACAGCCACCTTTATGCTTGGCGCGATATGACCTGAGCTCTGGGTAGATACTAACTACATTCAGAATCACACCGTCGTGGTTGGTCGAAATCGAGAACTCCAGCGGGTGCCAGGGAATTTAAA\n"
     ]
    }
   ],
   "source": [
    "comp_bases = {'A': 'T', 'C': 'G', 'G': 'C', 'T': 'A'}\n",
    "dna = dna.replace('\\n','')\n",
    "comp_dna = [comp_bases[s] for s in list(dna)]\n",
    "revcomp_dna = comp_dna[::-1]\n",
    "print (''.join(revcomp_dna))"
   ]
  },
  {
   "cell_type": "code",
   "execution_count": 8,
   "metadata": {},
   "outputs": [
    {
     "name": "stdout",
     "output_type": "stream",
     "text": [
      "{'A': 254, 'C': 237, 'G': 258, 'T': 251}\n"
     ]
    }
   ],
   "source": [
    "dna = dna.replace('\\n','')\n",
    "count = {'A': dna.count('A'), 'C':dna.count('C') , 'G': dna.count('G'), 'T': dna.count('T')}\n",
    "print (count)\n"
   ]
  },
  {
   "cell_type": "markdown",
   "metadata": {},
   "source": [
    "**5**. Buffon's needle is a mathematical thought experiment.\n",
    "\n",
    "Suppose there exist an infinite number of equally spaced parallel lines, and we were to randomly toss a needle whose length is less than or equal to the distance between adjacent lines. What is the probability that the needle will cross a line? The formula is \n",
    "$P = \\frac{2L}{\\pi D}$, where $D$ is the distance between two adjacent lines, and $L$ is the length of the needle.\n",
    "\n",
    "[Source: Wikipedia](https://en.wikipedia.org/wiki/Buffon%27s_noodle)\n",
    "\n",
    "Use a Monte Carlo simulaiton and elemntary trignometry to esitmate $\\pi$ using Buffon's needle by dropping 1 million  needles. (40 points)"
   ]
  },
  {
   "cell_type": "code",
   "execution_count": 9,
   "metadata": {},
   "outputs": [
    {
     "name": "stdout",
     "output_type": "stream",
     "text": [
      "3.1357005782231866\n"
     ]
    }
   ],
   "source": [
    "import math\n",
    "import random\n",
    "sum = 0\n",
    "l = 1.0\n",
    "d = 2.0\n",
    "random.seed(123)\n",
    "for i in range(1000000):\n",
    "    centers = random.uniform(0, d/2)\n",
    "    orientations = random.uniform(0, math.pi/2)\n",
    "    if(l/2*math.sin(orientations)>=centers): sum += 1\n",
    "prob = sum/1e6\n",
    "pi = 2*l / (prob*d)\n",
    "print (pi)"
   ]
  }
 ],
 "metadata": {
  "kernelspec": {
   "display_name": "Python 3",
   "language": "python",
   "name": "python3"
  },
  "language_info": {
   "codemirror_mode": {
    "name": "ipython",
    "version": 3
   },
   "file_extension": ".py",
   "mimetype": "text/x-python",
   "name": "python",
   "nbconvert_exporter": "python",
   "pygments_lexer": "ipython3",
   "version": "3.6.3"
  }
 },
 "nbformat": 4,
 "nbformat_minor": 2
}
