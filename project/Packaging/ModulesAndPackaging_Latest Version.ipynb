{
 "cells": [
  {
   "cell_type": "markdown",
   "metadata": {},
   "source": [
    "Modules and Packaging\n",
    "====\n",
    "\n",
    "At some point, you will want to organize and distribute your code library for the whole world to share, preferably on PyPI so that it is pip installable."
   ]
  },
  {
   "cell_type": "markdown",
   "metadata": {},
   "source": [
    "## References\n",
    "\n",
    "This notebook shows a bare-bones version of creating and distributing a project to PyPI. Please follow the instructions in the official documentations. For convenience, you can use the sample project as a template. \n",
    "\n",
    "- [Packaging and Distributing Projects](https://packaging.python.org/tutorials/distributing-packages/)\n",
    "- [A sample Python project](https://github.com/pypa/sampleproject)\n",
    "\n",
    "For more about how to organize the structure of your package \n",
    "\n",
    "- [Official tutorial on packages](https://docs.python.org/3/tutorial/modules.html#packages)\n",
    "\n",
    "If you are still confused about what `__init__.py` does, this [blog post](and the mysterious `__init__.py`, see) might help."
   ]
  },
  {
   "cell_type": "markdown",
   "metadata": {},
   "source": [
    "## Install packages we will use for packaging"
   ]
  },
  {
   "cell_type": "code",
   "execution_count": null,
   "metadata": {},
   "outputs": [],
   "source": [
    "! pip install -U pip\n",
    "! pip install twine"
   ]
  },
  {
   "cell_type": "markdown",
   "metadata": {},
   "source": [
    "## Modules\n",
    "\n",
    "In Pythoh, any `.py` file is a module in that it can be imported. Because the interpreter runs the entrie file when a moudle is imported, it is traditional to use a guard to ignore code that should only run when the file is executed as a script."
   ]
  },
  {
   "cell_type": "code",
   "execution_count": 1,
   "metadata": {},
   "outputs": [
    {
     "name": "stdout",
     "output_type": "stream",
     "text": [
      "Overwriting foo.py\n"
     ]
    }
   ],
   "source": [
    "%%file foo.py\n",
    "\"\"\"\n",
    "When this file is imported with `import foo`,\n",
    "only `useful_func1()` and `useful_func()` are loaded, \n",
    "and the test code `assert ...` is ignored. However,\n",
    "when we run foo.py as a script `python foo.py`, then\n",
    "the two assert statements are run.\n",
    "Most commonly, the code under `if __naem__ == '__main__':`\n",
    "consists of simple examples or test cases for the functions\n",
    "defined in the moule.\n",
    "\"\"\"\n",
    "\n",
    "def useful_func1():\n",
    "    pass\n",
    "\n",
    "def useful_fucn2():\n",
    "    pass\n",
    "\n",
    "if __name__ == '__main__':\n",
    "    assert(useful_func1() is None)\n",
    "    assert(useful_fucn2() is None)"
   ]
  },
  {
   "cell_type": "markdown",
   "metadata": {},
   "source": [
    "### Organization of files in a module\n",
    "\n",
    "When the number of files you write grow large, you will probably want to orgnize them into their own directory structure. To make a folder a  module, you just need to include a file named `__init__.py` in the folder. This file can be empty. For example, here is a module named `pkg` with sub-modules `sub1` and `sub2`.\n",
    "\n",
    "```\n",
    "./pkg:\n",
    "__init__.py\tfoo.py\t\tsub1\t\tsub2\n",
    "\n",
    "./pkg/sub1:\n",
    "__init__.py\t\tmore_sub1_stuff.py\tsub1_stuff.py\n",
    "\n",
    "./pkg/sub2:\n",
    "__init__.py\tsub2_stuff.py\n",
    "```\n"
   ]
  },
  {
   "cell_type": "code",
   "execution_count": 2,
   "metadata": {},
   "outputs": [],
   "source": [
    "import pkg.foo as foo"
   ]
  },
  {
   "cell_type": "code",
   "execution_count": 3,
   "metadata": {},
   "outputs": [
    {
     "data": {
      "text/plain": [
       "1"
      ]
     },
     "execution_count": 3,
     "metadata": {},
     "output_type": "execute_result"
    }
   ],
   "source": [
    "foo.f1()"
   ]
  },
  {
   "cell_type": "code",
   "execution_count": 4,
   "metadata": {},
   "outputs": [],
   "source": [
    "import pkg"
   ]
  },
  {
   "cell_type": "code",
   "execution_count": 5,
   "metadata": {},
   "outputs": [
    {
     "data": {
      "text/plain": [
       "1"
      ]
     },
     "execution_count": 5,
     "metadata": {},
     "output_type": "execute_result"
    }
   ],
   "source": [
    "pkg.foo.f1()"
   ]
  },
  {
   "cell_type": "markdown",
   "metadata": {},
   "source": [
    "#### How to import a module at the same level\n",
    "\n",
    "Within a package, we need to use absolute path names for importing other modules in the same directory. This prevents confusion as to whether you want to import a system moudle with the same name. For example, `foo.sub1.more_sub1_stuff.py` imports functions from `foo.sub1.sub1_stuff.py`"
   ]
  },
  {
   "cell_type": "code",
   "execution_count": 6,
   "metadata": {},
   "outputs": [
    {
     "name": "stdout",
     "output_type": "stream",
     "text": [
      "from pkg.sub1.sub1_stuff import g1, g2\r\n",
      "\r\n",
      "def g3():\r\n",
      "    return 'g3 uses %s, %s' % (g1(), g2())\r\n",
      "\r\n"
     ]
    }
   ],
   "source": [
    "! cat pkg/sub1/more_sub1_stuff.py"
   ]
  },
  {
   "cell_type": "code",
   "execution_count": 7,
   "metadata": {},
   "outputs": [
    {
     "data": {
      "text/plain": [
       "'g3 uses g1, g2'"
      ]
     },
     "execution_count": 7,
     "metadata": {},
     "output_type": "execute_result"
    }
   ],
   "source": [
    "from pkg.sub1.more_sub1_stuff import g3\n",
    "\n",
    "g3()"
   ]
  },
  {
   "cell_type": "markdown",
   "metadata": {},
   "source": [
    "#### How to import a moudle at a different level\n",
    "\n",
    "Again, just use absolute paths. For example, `sub2_stuff.py` in the `sub2` directory uses functions from `sub1_stuff.py` in the `sub1` directory:"
   ]
  },
  {
   "cell_type": "code",
   "execution_count": 8,
   "metadata": {},
   "outputs": [
    {
     "name": "stdout",
     "output_type": "stream",
     "text": [
      "from pkg.sub1.sub1_stuff import g1, g2\r\n",
      "\r\n",
      "def h1():\r\n",
      "    return g1()\r\n",
      "\r\n",
      "def h2():\r\n",
      "    return g1() + g2()\r\n"
     ]
    }
   ],
   "source": [
    "! cat pkg/sub2/sub2_stuff.py"
   ]
  },
  {
   "cell_type": "code",
   "execution_count": 9,
   "metadata": {},
   "outputs": [
    {
     "data": {
      "text/plain": [
       "'g1g2'"
      ]
     },
     "execution_count": 9,
     "metadata": {},
     "output_type": "execute_result"
    }
   ],
   "source": [
    "from pkg.sub2.sub2_stuff import h2\n",
    "\n",
    "h2()"
   ]
  },
  {
   "cell_type": "markdown",
   "metadata": {},
   "source": [
    "## Distributing your package\n",
    "\n",
    "Suppose we want to distribute our code as a library (for example, on PyPI so that it cnn be installed with `pip`). Let's create an `sta663-<username>` (the username part is just to avoid name conflicts) library containing the `pkg` package and some other files:\n",
    "\n",
    "- `README.md`: some information about the library\n",
    "- `sta663.py`: a standalone module\n",
    "- `run_sta663.py`: a script (intended for use as `python run_sta663.py`)"
   ]
  },
  {
   "cell_type": "code",
   "execution_count": 10,
   "metadata": {},
   "outputs": [
    {
     "name": "stdout",
     "output_type": "stream",
     "text": [
      "sta663:\r\n",
      "__init__.py  pkg\t run_sta663.py\tsta663.egg-info  sub1\r\n",
      "MANIFEST     README.txt  setup.py\tsta663.py\t sub2\r\n",
      "\r\n",
      "sta663/pkg:\r\n",
      "foo.py\t__init__.py  sub1  sub2\r\n",
      "\r\n",
      "sta663/pkg/sub1:\r\n",
      "__init__.py  more_sub1_stuff.py  sub1_stuff.py\r\n",
      "\r\n",
      "sta663/pkg/sub2:\r\n",
      "__init__.py  sub2_stuff.py\r\n",
      "\r\n",
      "sta663/sta663.egg-info:\r\n",
      "dependency_links.txt  PKG-INFO\tSOURCES.txt  top_level.txt\r\n",
      "\r\n",
      "sta663/sub1:\r\n",
      "__intit__.py\r\n",
      "\r\n",
      "sta663/sub2:\r\n",
      "__iniit__.py\r\n"
     ]
    }
   ],
   "source": [
    "! ls -R sta663"
   ]
  },
  {
   "cell_type": "code",
   "execution_count": 11,
   "metadata": {},
   "outputs": [
    {
     "name": "stdout",
     "output_type": "stream",
     "text": [
      "import pkg.foo as foo\r\n",
      "from pkg.sub1.more_sub1_stuff import g3\r\n",
      "from pkg.sub2.sub2_stuff import h2\r\n",
      "\r\n",
      "print foo.f1()\r\n",
      "print g3()\r\n",
      "print h2()\r\n"
     ]
    }
   ],
   "source": [
    "! cat sta663/run_sta663.py"
   ]
  },
  {
   "cell_type": "markdown",
   "metadata": {},
   "source": [
    "### Using distutils\n",
    "\n",
    "All we need to do is to write a `setup.py` file."
   ]
  },
  {
   "cell_type": "code",
   "execution_count": 12,
   "metadata": {},
   "outputs": [
    {
     "name": "stdout",
     "output_type": "stream",
     "text": [
      "Overwriting sta663/setup.py\n"
     ]
    }
   ],
   "source": [
    "%%file sta663/setup.py\n",
    "from setuptools import setup\n",
    "import setuptools\n",
    "setup(name = \"sta663-cliburn\",\n",
    "      version = \"1.0\",\n",
    "      author='Cliburn Chan',\n",
    "      author_email='cliburn.chan@duke.edu',\n",
    "      url='http://people.duke.edu/~ccc14/sta-663-2018/',\n",
    "      py_modules = ['sta663'],\n",
    "      packages=setuptools.find_packages(),\n",
    "      scripts = ['run_sta663.py'],\n",
    "      python_requires='>=3',\n",
    "      )"
   ]
  },
  {
   "cell_type": "markdown",
   "metadata": {},
   "source": [
    "### Build a source archive for distribution"
   ]
  },
  {
   "cell_type": "code",
   "execution_count": 13,
   "metadata": {},
   "outputs": [
    {
     "name": "stdout",
     "output_type": "stream",
     "text": [
      "running sdist\n",
      "running egg_info\n",
      "creating sta663_cliburn.egg-info\n",
      "writing sta663_cliburn.egg-info/PKG-INFO\n",
      "writing dependency_links to sta663_cliburn.egg-info/dependency_links.txt\n",
      "writing top-level names to sta663_cliburn.egg-info/top_level.txt\n",
      "writing manifest file 'sta663_cliburn.egg-info/SOURCES.txt'\n",
      "reading manifest file 'sta663_cliburn.egg-info/SOURCES.txt'\n",
      "writing manifest file 'sta663_cliburn.egg-info/SOURCES.txt'\n",
      "running check\n",
      "creating sta663-cliburn-1.0\n",
      "creating sta663-cliburn-1.0/pkg\n",
      "creating sta663-cliburn-1.0/pkg/sub1\n",
      "creating sta663-cliburn-1.0/pkg/sub2\n",
      "creating sta663-cliburn-1.0/sta663_cliburn.egg-info\n",
      "copying files to sta663-cliburn-1.0...\n",
      "copying README.txt -> sta663-cliburn-1.0\n",
      "copying run_sta663.py -> sta663-cliburn-1.0\n",
      "copying setup.py -> sta663-cliburn-1.0\n",
      "copying sta663.py -> sta663-cliburn-1.0\n",
      "copying pkg/__init__.py -> sta663-cliburn-1.0/pkg\n",
      "copying pkg/foo.py -> sta663-cliburn-1.0/pkg\n",
      "copying pkg/sub1/__init__.py -> sta663-cliburn-1.0/pkg/sub1\n",
      "copying pkg/sub1/more_sub1_stuff.py -> sta663-cliburn-1.0/pkg/sub1\n",
      "copying pkg/sub1/sub1_stuff.py -> sta663-cliburn-1.0/pkg/sub1\n",
      "copying pkg/sub2/__init__.py -> sta663-cliburn-1.0/pkg/sub2\n",
      "copying pkg/sub2/sub2_stuff.py -> sta663-cliburn-1.0/pkg/sub2\n",
      "copying sta663_cliburn.egg-info/PKG-INFO -> sta663-cliburn-1.0/sta663_cliburn.egg-info\n",
      "copying sta663_cliburn.egg-info/SOURCES.txt -> sta663-cliburn-1.0/sta663_cliburn.egg-info\n",
      "copying sta663_cliburn.egg-info/dependency_links.txt -> sta663-cliburn-1.0/sta663_cliburn.egg-info\n",
      "copying sta663_cliburn.egg-info/top_level.txt -> sta663-cliburn-1.0/sta663_cliburn.egg-info\n",
      "Writing sta663-cliburn-1.0/setup.cfg\n",
      "creating dist\n",
      "Creating tar archive\n",
      "removing 'sta663-cliburn-1.0' (and everything under it)\n",
      "/home/jovyan/work/sta-663-2018/project/Packaging\n"
     ]
    }
   ],
   "source": [
    "%%bash\n",
    "\n",
    "cd sta663\n",
    "python setup.py sdist\n",
    "cd -"
   ]
  },
  {
   "cell_type": "code",
   "execution_count": 14,
   "metadata": {},
   "outputs": [
    {
     "name": "stdout",
     "output_type": "stream",
     "text": [
      "sta663:\r\n",
      "dist\t     pkg\t    setup.py\t\t     sta663.py\r\n",
      "__init__.py  README.txt     sta663_cliburn.egg-info  sub1\r\n",
      "MANIFEST     run_sta663.py  sta663.egg-info\t     sub2\r\n",
      "\r\n",
      "sta663/dist:\r\n",
      "sta663-cliburn-1.0.tar.gz\r\n",
      "\r\n",
      "sta663/pkg:\r\n",
      "foo.py\t__init__.py  sub1  sub2\r\n",
      "\r\n",
      "sta663/pkg/sub1:\r\n",
      "__init__.py  more_sub1_stuff.py  sub1_stuff.py\r\n",
      "\r\n",
      "sta663/pkg/sub2:\r\n",
      "__init__.py  sub2_stuff.py\r\n",
      "\r\n",
      "sta663/sta663_cliburn.egg-info:\r\n",
      "dependency_links.txt  PKG-INFO\tSOURCES.txt  top_level.txt\r\n",
      "\r\n",
      "sta663/sta663.egg-info:\r\n",
      "dependency_links.txt  PKG-INFO\tSOURCES.txt  top_level.txt\r\n",
      "\r\n",
      "sta663/sub1:\r\n",
      "__intit__.py\r\n",
      "\r\n",
      "sta663/sub2:\r\n",
      "__iniit__.py\r\n"
     ]
    }
   ],
   "source": [
    "! ls -R sta663"
   ]
  },
  {
   "cell_type": "markdown",
   "metadata": {},
   "source": [
    "### Distribution\n",
    "\n",
    "You can now distribute `sta663-1.0.tar.gz` to somebody else for installation in the usual way."
   ]
  },
  {
   "cell_type": "code",
   "execution_count": 15,
   "metadata": {},
   "outputs": [
    {
     "name": "stderr",
     "output_type": "stream",
     "text": [
      "cp: cannot stat ‘sta663/dist/sta663_cliburn-1.0-py3.6.egg’: No such file or directory\n",
      "tar (child): sta663_cliburn-1.0-py3.6.egg: Cannot open: No such file or directory\n",
      "tar (child): Error is not recoverable: exiting now\n",
      "tar: Child returned status 2\n",
      "tar: Error is not recoverable: exiting now\n",
      "bash: line 5: cd: sta663-1.0: No such file or directory\n",
      "python: can't open file 'setup.py': [Errno 2] No such file or directory\n"
     ]
    }
   ],
   "source": [
    "%%bash\n",
    "\n",
    "cp sta663/dist/sta663_cliburn-1.0-py3.6.egg/tmp\n",
    "cd /tmp\n",
    "tar xzf sta663_cliburn-1.0-py3.6.egg \n",
    "cd sta663-1.0\n",
    "python setup.py install"
   ]
  },
  {
   "cell_type": "markdown",
   "metadata": {},
   "source": [
    "### See `__init__.py` to understand what can be imported from where"
   ]
  },
  {
   "cell_type": "code",
   "execution_count": 16,
   "metadata": {},
   "outputs": [
    {
     "name": "stdout",
     "output_type": "stream",
     "text": [
      "import pkg\r\n",
      "from pkg.sub1.sub1_stuff import g1\r\n",
      " \r\n"
     ]
    }
   ],
   "source": [
    "! cat sta663/__init__.py"
   ]
  },
  {
   "cell_type": "code",
   "execution_count": 17,
   "metadata": {},
   "outputs": [],
   "source": [
    "! cat sta663/pkg/__init__.py"
   ]
  },
  {
   "cell_type": "code",
   "execution_count": 18,
   "metadata": {},
   "outputs": [
    {
     "name": "stdout",
     "output_type": "stream",
     "text": [
      "from sta663.pkg.sub1.sub1_stuff import g1, g2\r\n",
      "from sta663.pkg.sub1.more_sub1_stuff import g3\r\n"
     ]
    }
   ],
   "source": [
    "! cat sta663/pkg/sub1/__init__.py"
   ]
  },
  {
   "cell_type": "code",
   "execution_count": 19,
   "metadata": {},
   "outputs": [
    {
     "name": "stdout",
     "output_type": "stream",
     "text": [
      "from sta663.pkg.sub2.sub2_stuff import h1, h2\r\n"
     ]
    }
   ],
   "source": [
    "! cat sta663/pkg/sub2/__init__.py"
   ]
  },
  {
   "cell_type": "markdown",
   "metadata": {},
   "source": [
    "### Using imports from the `sta663` package"
   ]
  },
  {
   "cell_type": "code",
   "execution_count": 20,
   "metadata": {},
   "outputs": [],
   "source": [
    "import sta663"
   ]
  },
  {
   "cell_type": "code",
   "execution_count": 21,
   "metadata": {},
   "outputs": [
    {
     "data": {
      "text/plain": [
       "['g1', 'pkg']"
      ]
     },
     "execution_count": 21,
     "metadata": {},
     "output_type": "execute_result"
    }
   ],
   "source": [
    "[x for x in dir(sta663) if not x.startswith('__')]"
   ]
  },
  {
   "cell_type": "code",
   "execution_count": 22,
   "metadata": {},
   "outputs": [
    {
     "data": {
      "text/plain": [
       "'g1'"
      ]
     },
     "execution_count": 22,
     "metadata": {},
     "output_type": "execute_result"
    }
   ],
   "source": [
    "sta663.g1()"
   ]
  },
  {
   "cell_type": "code",
   "execution_count": 23,
   "metadata": {},
   "outputs": [],
   "source": [
    "from sta663 import pkg"
   ]
  },
  {
   "cell_type": "code",
   "execution_count": 24,
   "metadata": {},
   "outputs": [
    {
     "data": {
      "text/plain": [
       "['foo', 'sub1', 'sub2']"
      ]
     },
     "execution_count": 24,
     "metadata": {},
     "output_type": "execute_result"
    }
   ],
   "source": [
    "[x for x in dir(pkg) if not x.startswith('__')]"
   ]
  },
  {
   "cell_type": "code",
   "execution_count": 25,
   "metadata": {},
   "outputs": [],
   "source": [
    "from sta663.pkg import sub1, sub2"
   ]
  },
  {
   "cell_type": "code",
   "execution_count": 26,
   "metadata": {},
   "outputs": [
    {
     "data": {
      "text/plain": [
       "['g1', 'g2', 'g3', 'more_sub1_stuff', 'sub1_stuff']"
      ]
     },
     "execution_count": 26,
     "metadata": {},
     "output_type": "execute_result"
    }
   ],
   "source": [
    "[x for x in dir(sub1) if not x.startswith('__')]"
   ]
  },
  {
   "cell_type": "code",
   "execution_count": 27,
   "metadata": {},
   "outputs": [
    {
     "data": {
      "text/plain": [
       "['h1', 'h2', 'sub2_stuff']"
      ]
     },
     "execution_count": 27,
     "metadata": {},
     "output_type": "execute_result"
    }
   ],
   "source": [
    "[x for x in dir(sub2) if not x.startswith('__')]"
   ]
  },
  {
   "cell_type": "code",
   "execution_count": 28,
   "metadata": {},
   "outputs": [
    {
     "data": {
      "text/plain": [
       "('g1', 'g2', 'g3 uses g1, g2')"
      ]
     },
     "execution_count": 28,
     "metadata": {},
     "output_type": "execute_result"
    }
   ],
   "source": [
    "sub1.g1(), sub1.g2(), sub1.g3()"
   ]
  },
  {
   "cell_type": "code",
   "execution_count": 29,
   "metadata": {},
   "outputs": [
    {
     "data": {
      "text/plain": [
       "('g1', 'g1g2')"
      ]
     },
     "execution_count": 29,
     "metadata": {},
     "output_type": "execute_result"
    }
   ],
   "source": [
    "sub2.h1(), sub2.h2()"
   ]
  },
  {
   "cell_type": "code",
   "execution_count": 30,
   "metadata": {},
   "outputs": [
    {
     "data": {
      "text/plain": [
       "'g1'"
      ]
     },
     "execution_count": 30,
     "metadata": {},
     "output_type": "execute_result"
    }
   ],
   "source": [
    "sta663.pkg.sub2.sub2_stuff.h1()"
   ]
  },
  {
   "cell_type": "code",
   "execution_count": 31,
   "metadata": {},
   "outputs": [
    {
     "data": {
      "text/plain": [
       "'g1g2'"
      ]
     },
     "execution_count": 31,
     "metadata": {},
     "output_type": "execute_result"
    }
   ],
   "source": [
    "sta663.pkg.sub2.sub2_stuff.h2()"
   ]
  },
  {
   "cell_type": "markdown",
   "metadata": {},
   "source": [
    "#### Distributing to PyPI\n",
    "\n",
    "For testing, please upload to TestPyPI which is cleaned on a regular basis. See instructions at \n",
    "https://packaging.python.org/guides/using-testpypi/#using-test-pypi\n",
    "\n",
    "- **Note 1**: You need to confirm your email address after registration.\n",
    "- **Note 2**: You can easily delete any uploaded packages by logging in at https://test.pypi.org.\n",
    "\n",
    "When your package is ready for public release, you can upload to PyPI. See instructions at\n",
    "https://packaging.python.org/tutorials/distributing-packages/#id78"
   ]
  },
  {
   "cell_type": "code",
   "execution_count": 32,
   "metadata": {},
   "outputs": [
    {
     "name": "stdout",
     "output_type": "stream",
     "text": [
      "Uploading distributions to https://test.pypi.org/legacy/\n",
      "Uploading sta663-cliburn-1.0.tar.gz\n",
      "\r",
      "  0%|          | 0.00/3.85k [00:00<?, ?B/s]\r",
      "100%|██████████| 3.85k/3.85k [00:00<00:00, 13.3kB/s]\n"
     ]
    },
    {
     "name": "stderr",
     "output_type": "stream",
     "text": [
      "HTTPError: 403 Client Error: Invalid or non-existent authentication information. for url: https://test.pypi.org/legacy/\n"
     ]
    }
   ],
   "source": [
    "%%bash\n",
    "\n",
    "export TWINE_USERNAME='cliburn' \n",
    "export TWINE_PASSWORD=''\n",
    "twine upload --repository-url https://test.pypi.org/legacy/ sta663/dist/*"
   ]
  },
  {
   "cell_type": "code",
   "execution_count": 33,
   "metadata": {},
   "outputs": [
    {
     "name": "stdout",
     "output_type": "stream",
     "text": [
      "Looking in indexes: https://test.pypi.org/simple/\n",
      "Collecting sta663\n"
     ]
    },
    {
     "name": "stderr",
     "output_type": "stream",
     "text": [
      "  Could not find a version that satisfies the requirement sta663 (from versions: )\n",
      "No matching distribution found for sta663\n"
     ]
    }
   ],
   "source": [
    "%%bash\n",
    "\n",
    "pip install --index-url https://test.pypi.org/simple/ sta663"
   ]
  },
  {
   "cell_type": "code",
   "execution_count": 2,
   "metadata": {},
   "outputs": [
    {
     "ename": "ModuleNotFoundError",
     "evalue": "No module named 'fastica'",
     "output_type": "error",
     "traceback": [
      "\u001b[0;31m\u001b[0m",
      "\u001b[0;31mModuleNotFoundError\u001b[0mTraceback (most recent call last)",
      "\u001b[0;32m<ipython-input-2-ceb0fce29016>\u001b[0m in \u001b[0;36m<module>\u001b[0;34m()\u001b[0m\n\u001b[0;32m----> 1\u001b[0;31m \u001b[0;32mimport\u001b[0m \u001b[0mfastica\u001b[0m\u001b[0;34m\u001b[0m\u001b[0m\n\u001b[0m",
      "\u001b[0;31mModuleNotFoundError\u001b[0m: No module named 'fastica'"
     ]
    }
   ],
   "source": [
    "import fastica"
   ]
  }
 ],
 "metadata": {
  "kernelspec": {
   "display_name": "Python 3",
   "language": "python",
   "name": "python3"
  },
  "language_info": {
   "codemirror_mode": {
    "name": "ipython",
    "version": 3
   },
   "file_extension": ".py",
   "mimetype": "text/x-python",
   "name": "python",
   "nbconvert_exporter": "python",
   "pygments_lexer": "ipython3",
   "version": "3.6.5"
  }
 },
 "nbformat": 4,
 "nbformat_minor": 1
}
