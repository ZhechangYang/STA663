{
 "cells": [
  {
   "cell_type": "markdown",
   "metadata": {},
   "source": [
    "Modules and Packaging\n",
    "====\n",
    "\n",
    "At some point, you will want to organize and distribute your code library for the whole world to share, preferably on PyPI so that it is pip installable."
   ]
  },
  {
   "cell_type": "markdown",
   "metadata": {},
   "source": [
    "## References\n",
    "\n",
    "This notebook shows a bare-bones version of creating and distributing a project to PyPI. Please follow the instructions in the official documentations. For convenience, you can use the sample project as a template. \n",
    "\n",
    "- [Packaging and Distributing Projects](https://packaging.python.org/tutorials/distributing-packages/)\n",
    "- [A sample Python project](https://github.com/pypa/sampleproject)\n",
    "\n",
    "For more about how to organize the structure of your package \n",
    "\n",
    "- [Official tutorial on packages](https://docs.python.org/3/tutorial/modules.html#packages)\n",
    "\n",
    "If you are still confused about what `__init__.py` does, this [blog post](and the mysterious `__init__.py`, see) might help."
   ]
  },
  {
   "cell_type": "markdown",
   "metadata": {},
   "source": [
    "## Install packages we will use for packaging"
   ]
  },
  {
   "cell_type": "code",
   "execution_count": 1,
   "metadata": {},
   "outputs": [
    {
     "name": "stdout",
     "output_type": "stream",
     "text": [
      "Collecting pip\n",
      "  Downloading pip-9.0.3-py2.py3-none-any.whl (1.4MB)\n",
      "\u001b[K    100% |████████████████████████████████| 1.4MB 841kB/s eta 0:00:01\n",
      "\u001b[?25hInstalling collected packages: pip\n",
      "  Found existing installation: pip 9.0.1\n",
      "    Uninstalling pip-9.0.1:\n",
      "      Successfully uninstalled pip-9.0.1\n",
      "Successfully installed pip-9.0.3\n",
      "Collecting twine\n",
      "  Downloading twine-1.11.0-py2.py3-none-any.whl\n",
      "Requirement already satisfied: requests!=2.15,!=2.16,>=2.5.0 in /opt/conda/lib/python3.6/site-packages (from twine)\n",
      "Requirement already satisfied: tqdm>=4.14 in /opt/conda/lib/python3.6/site-packages (from twine)\n",
      "Collecting pkginfo>=1.4.2 (from twine)\n",
      "  Downloading pkginfo-1.4.2-py2.py3-none-any.whl\n",
      "Requirement already satisfied: setuptools>=0.7.0 in /opt/conda/lib/python3.6/site-packages (from twine)\n",
      "Collecting requests-toolbelt>=0.8.0 (from twine)\n",
      "  Downloading requests_toolbelt-0.8.0-py2.py3-none-any.whl (54kB)\n",
      "\u001b[K    100% |████████████████████████████████| 61kB 4.7MB/s ta 0:00:011\n",
      "\u001b[?25hRequirement already satisfied: chardet<3.1.0,>=3.0.2 in /opt/conda/lib/python3.6/site-packages (from requests!=2.15,!=2.16,>=2.5.0->twine)\n",
      "Requirement already satisfied: idna<2.7,>=2.5 in /opt/conda/lib/python3.6/site-packages (from requests!=2.15,!=2.16,>=2.5.0->twine)\n",
      "Requirement already satisfied: urllib3<1.23,>=1.21.1 in /opt/conda/lib/python3.6/site-packages (from requests!=2.15,!=2.16,>=2.5.0->twine)\n",
      "Requirement already satisfied: certifi>=2017.4.17 in /opt/conda/lib/python3.6/site-packages (from requests!=2.15,!=2.16,>=2.5.0->twine)\n",
      "Installing collected packages: pkginfo, requests-toolbelt, twine\n",
      "Successfully installed pkginfo-1.4.2 requests-toolbelt-0.8.0 twine-1.11.0\n"
     ]
    }
   ],
   "source": [
    "! pip install -U pip\n",
    "! pip install twine"
   ]
  },
  {
   "cell_type": "markdown",
   "metadata": {},
   "source": [
    "## Modules\n",
    "\n",
    "In Pythoh, any `.py` file is a module in that it can be imported. Because the interpreter runs the entrie file when a moudle is imported, it is traditional to use a guard to ignore code that should only run when the file is executed as a script."
   ]
  },
  {
   "cell_type": "code",
   "execution_count": 2,
   "metadata": {},
   "outputs": [
    {
     "name": "stdout",
     "output_type": "stream",
     "text": [
      "Writing foo.py\n"
     ]
    }
   ],
   "source": [
    "%%file foo.py\n",
    "\"\"\"\n",
    "When this file is imported with `import foo`,\n",
    "only `useful_func1()` and `useful_func()` are loaded, \n",
    "and the test code `assert ...` is ignored. However,\n",
    "when we run foo.py as a script `python foo.py`, then\n",
    "the two assert statements are run.\n",
    "Most commonly, the code under `if __naem__ == '__main__':`\n",
    "consists of simple examples or test cases for the functions\n",
    "defined in the moule.\n",
    "\"\"\"\n",
    "\n",
    "def useful_func1():\n",
    "    pass\n",
    "\n",
    "def useful_fucn2():\n",
    "    pass\n",
    "\n",
    "if __name__ == '__main__': #？？？\n",
    "    assert(useful_func1() is None)\n",
    "    assert(useful_fucn2() is None)"
   ]
  },
  {
   "cell_type": "markdown",
   "metadata": {},
   "source": [
    "### Organization of files in a module\n",
    "\n",
    "When the number of files you write grow large, you will probably want to orgnize them into their own directory structure. To make a folder a  module, you just need to include a file named `__init__.py` in the folder. This file can be empty. For example, here is a module named `pkg` with sub-modules `sub1` and `sub2`.\n",
    "\n",
    "```\n",
    "./pkg:\n",
    "__init__.py\tfoo.py\t\tsub1\t\tsub2\n",
    "\n",
    "./pkg/sub1:\n",
    "__init__.py\t\tmore_sub1_stuff.py\tsub1_stuff.py\n",
    "\n",
    "./pkg/sub2:\n",
    "__init__.py\tsub2_stuff.py\n",
    "```\n"
   ]
  },
  {
   "cell_type": "code",
   "execution_count": 3,
   "metadata": {},
   "outputs": [],
   "source": [
    "import pkg.foo as foo"
   ]
  },
  {
   "cell_type": "code",
   "execution_count": 4,
   "metadata": {},
   "outputs": [
    {
     "data": {
      "text/plain": [
       "1"
      ]
     },
     "execution_count": 4,
     "metadata": {},
     "output_type": "execute_result"
    }
   ],
   "source": [
    "foo.f1()"
   ]
  },
  {
   "cell_type": "code",
   "execution_count": 5,
   "metadata": {},
   "outputs": [],
   "source": [
    "import pkg"
   ]
  },
  {
   "cell_type": "code",
   "execution_count": 6,
   "metadata": {},
   "outputs": [
    {
     "data": {
      "text/plain": [
       "1"
      ]
     },
     "execution_count": 6,
     "metadata": {},
     "output_type": "execute_result"
    }
   ],
   "source": [
    "pkg.foo.f1()"
   ]
  },
  {
   "cell_type": "markdown",
   "metadata": {},
   "source": [
    "#### How to import a module at the same level\n",
    "\n",
    "Within a package, we need to use absolute path names for importing other modules in the same directory. This prevents confusion as to whether you want to import a system moudle with the same name. For example, `foo.sub1.more_sub1_stuff.py` imports functions from `foo.sub1.sub1_stuff.py`"
   ]
  },
  {
   "cell_type": "code",
   "execution_count": 7,
   "metadata": {},
   "outputs": [
    {
     "name": "stdout",
     "output_type": "stream",
     "text": [
      "from pkg.sub1.sub1_stuff import g1, g2\r\n",
      "\r\n",
      "def g3():\r\n",
      "    return 'g3 uses %s, %s' % (g1(), g2())\r\n",
      "\r\n"
     ]
    }
   ],
   "source": [
    "! cat pkg/sub1/more_sub1_stuff.py"
   ]
  },
  {
   "cell_type": "code",
   "execution_count": null,
   "metadata": {
    "collapsed": true
   },
   "outputs": [],
   "source": [
    "from pkg.sub1.more_sub1_stuff import g3\n",
    "\n",
    "g3()"
   ]
  },
  {
   "cell_type": "markdown",
   "metadata": {},
   "source": [
    "#### How to import a moudle at a different level\n",
    "\n",
    "Again, just use absolute paths. For example, `sub2_stuff.py` in the `sub2` directory uses functions from `sub1_stuff.py` in the `sub1` directory:"
   ]
  },
  {
   "cell_type": "code",
   "execution_count": null,
   "metadata": {
    "collapsed": true
   },
   "outputs": [],
   "source": [
    "! cat pkg/sub2/sub2_stuff.py"
   ]
  },
  {
   "cell_type": "code",
   "execution_count": null,
   "metadata": {
    "collapsed": true
   },
   "outputs": [],
   "source": [
    "from pkg.sub2.sub2_stuff import h2\n",
    "\n",
    "h2()"
   ]
  },
  {
   "cell_type": "markdown",
   "metadata": {},
   "source": [
    "## Distributing your package\n",
    "\n",
    "Suppose we want to distribute our code as a library (for example, on PyPI so that it cnn be installed with `pip`). Let's create an `sta663-<username>` (the username part is just to avoid name conflicts) library containing the `pkg` package and some other files:\n",
    "\n",
    "- `README.md`: some information about the library\n",
    "- `sta663.py`: a standalone module\n",
    "- `run_sta663.py`: a script (intended for use as `python run_sta663.py`)"
   ]
  },
  {
   "cell_type": "code",
   "execution_count": 8,
   "metadata": {},
   "outputs": [
    {
     "name": "stdout",
     "output_type": "stream",
     "text": [
      "sta663:\r\n",
      "MANIFEST  pkg  README.txt  run_sta663.py  setup.py  sta663.egg-info  sta663.py\r\n",
      "\r\n",
      "sta663/pkg:\r\n",
      "foo.py\t__init__.py  sub1  sub2\r\n",
      "\r\n",
      "sta663/pkg/sub1:\r\n",
      "__init__.py  more_sub1_stuff.py  sub1_stuff.py\r\n",
      "\r\n",
      "sta663/pkg/sub2:\r\n",
      "__init__.py  sub2_stuff.py\r\n",
      "\r\n",
      "sta663/sta663.egg-info:\r\n",
      "dependency_links.txt  PKG-INFO\tSOURCES.txt  top_level.txt\r\n"
     ]
    }
   ],
   "source": [
    "! ls -R sta663"
   ]
  },
  {
   "cell_type": "code",
   "execution_count": 9,
   "metadata": {},
   "outputs": [
    {
     "name": "stdout",
     "output_type": "stream",
     "text": [
      "import pkg.foo as foo\r\n",
      "from pkg.sub1.more_sub1_stuff import g3\r\n",
      "from pkg.sub2.sub2_stuff import h2\r\n",
      "\r\n",
      "print foo.f1()\r\n",
      "print g3()\r\n",
      "print h2()\r\n"
     ]
    }
   ],
   "source": [
    "! cat sta663/run_sta663.py"
   ]
  },
  {
   "cell_type": "markdown",
   "metadata": {},
   "source": [
    "### Using distutils\n",
    "\n",
    "All we need to do is to write a `setup.py` file."
   ]
  },
  {
   "cell_type": "code",
   "execution_count": 10,
   "metadata": {},
   "outputs": [
    {
     "name": "stdout",
     "output_type": "stream",
     "text": [
      "Overwriting sta663/setup.py\n"
     ]
    }
   ],
   "source": [
    "%%file sta663/setup.py\n",
    "from setuptools import setup\n",
    "\n",
    "setup(name = \"sta663-cliburn\",\n",
    "      version = \"1.0\",\n",
    "      author='Cliburn Chan',\n",
    "      author_email='cliburn.chan@duke.edu',\n",
    "      url='http://people.duke.edu/~ccc14/sta-663-2018/',\n",
    "      py_modules = ['sta663'],\n",
    "      packages = ['pkg', 'pkg/sub1', 'pkg/sub2'],\n",
    "      scripts = ['run_sta663.py'],\n",
    "      python_requires='>=3',\n",
    "      )"
   ]
  },
  {
   "cell_type": "markdown",
   "metadata": {},
   "source": [
    "### Build a source archive for distribution"
   ]
  },
  {
   "cell_type": "code",
   "execution_count": null,
   "metadata": {
    "collapsed": true
   },
   "outputs": [],
   "source": [
    "%%bash\n",
    "\n",
    "cd sta663\n",
    "python setup.py sdist\n",
    "cd -"
   ]
  },
  {
   "cell_type": "code",
   "execution_count": null,
   "metadata": {
    "collapsed": true
   },
   "outputs": [],
   "source": [
    "! ls -R sta663"
   ]
  },
  {
   "cell_type": "markdown",
   "metadata": {},
   "source": [
    "### Distribution\n",
    "\n",
    "You can now distribute `sta663-1.0.tar.gz` to somebody else for installation in the usual way."
   ]
  },
  {
   "cell_type": "code",
   "execution_count": null,
   "metadata": {
    "collapsed": true
   },
   "outputs": [],
   "source": [
    "%%bash\n",
    "\n",
    "cp sta663/dist/sta663-1.0.tar.gz /tmp\n",
    "cd /tmp\n",
    "tar xzf sta663-1.0.tar.gz\n",
    "cd sta663-1.0\n",
    "python setup.py install"
   ]
  },
  {
   "cell_type": "code",
   "execution_count": null,
   "metadata": {
    "collapsed": true
   },
   "outputs": [],
   "source": [
    "import sta663"
   ]
  },
  {
   "cell_type": "code",
   "execution_count": null,
   "metadata": {
    "collapsed": true
   },
   "outputs": [],
   "source": [
    "from sta663 import pkg"
   ]
  },
  {
   "cell_type": "code",
   "execution_count": null,
   "metadata": {
    "collapsed": true
   },
   "outputs": [],
   "source": [
    "pkg.sub1.sub1_stuff.g1()"
   ]
  },
  {
   "cell_type": "code",
   "execution_count": null,
   "metadata": {
    "collapsed": true
   },
   "outputs": [],
   "source": [
    "pkg.sub1.sub1_stuff.g2()"
   ]
  },
  {
   "cell_type": "code",
   "execution_count": null,
   "metadata": {
    "collapsed": true
   },
   "outputs": [],
   "source": [
    "pkg.sub1.more_sub1_stuff.g3()"
   ]
  },
  {
   "cell_type": "code",
   "execution_count": null,
   "metadata": {
    "collapsed": true
   },
   "outputs": [],
   "source": [
    "pkg.sub2.sub2_stuff.h1()"
   ]
  },
  {
   "cell_type": "code",
   "execution_count": null,
   "metadata": {
    "collapsed": true
   },
   "outputs": [],
   "source": [
    "pkg.sub2.sub2_stuff.h2()"
   ]
  },
  {
   "cell_type": "markdown",
   "metadata": {},
   "source": [
    "#### Distributing to PyPI\n",
    "\n",
    "For testing, please upload to TestPyPI which is cleaned on a regular basis. See instructions at \n",
    "https://packaging.python.org/guides/using-testpypi/#using-test-pypi\n",
    "\n",
    "- **Note 1**: You need to confirm your email address after registration.\n",
    "- **Note 2**: You can easily delete any uploaded packages by logging in at https://test.pypi.org.\n",
    "\n",
    "When your package is ready for public release, you can upload to PyPI. See instructions at\n",
    "https://packaging.python.org/tutorials/distributing-packages/#id78"
   ]
  },
  {
   "cell_type": "code",
   "execution_count": null,
   "metadata": {},
   "outputs": [],
   "source": [
    "%%bash\n",
    "\n",
    "export TWINE_USERNAME='' \n",
    "export TWINE_PASSWORD=''\n",
    "twine upload --repository-url https://test.pypi.org/legacy/ sta663/dist/*"
   ]
  },
  {
   "cell_type": "code",
   "execution_count": null,
   "metadata": {
    "collapsed": true
   },
   "outputs": [],
   "source": [
    "%%bash\n",
    "\n",
    "pip install --index-url https://test.pypi.org/simple/ sta663"
   ]
  },
  {
   "cell_type": "code",
   "execution_count": null,
   "metadata": {
    "collapsed": true
   },
   "outputs": [],
   "source": []
  }
 ],
 "metadata": {
  "kernelspec": {
   "display_name": "Python 3",
   "language": "python",
   "name": "python3"
  },
  "language_info": {
   "codemirror_mode": {
    "name": "ipython",
    "version": 3
   },
   "file_extension": ".py",
   "mimetype": "text/x-python",
   "name": "python",
   "nbconvert_exporter": "python",
   "pygments_lexer": "ipython3",
   "version": "3.6.3"
  }
 },
 "nbformat": 4,
 "nbformat_minor": 1
}
