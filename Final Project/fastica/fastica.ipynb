{
 "cells": [
  {
   "cell_type": "markdown",
   "metadata": {},
   "source": [
    "### Package"
   ]
  },
  {
   "cell_type": "code",
   "execution_count": 18,
   "metadata": {},
   "outputs": [
    {
     "name": "stdout",
     "output_type": "stream",
     "text": [
      "Overwriting fastica.py\n"
     ]
    }
   ],
   "source": [
    "%%file fastica.py\n",
    "\n",
    "import numpy as np\n",
    "import pandas as pd\n",
    "import scipy.linalg as la\n",
    "import numba\n",
    "from numba import jit\n",
    "\n",
    "#whiten\n",
    "def whiten2(X):\n",
    "    X = X - X.mean(-1)[:, None]\n",
    "    A = np.dot(X, X.T)\n",
    "    D, P = la.eigh(A)\n",
    "    D = np.diag(D)\n",
    "    S_inv = np.sqrt(np.linalg.pinv(D))\n",
    "    V = np.dot(S_inv, P.T)\n",
    "    return np.dot(V, X), V\n",
    "def whiten(X, n_components):\n",
    "    X = X - X.mean(-1)[:, None]\n",
    "    u, d, _ = la.svd(X, full_matrices=False)\n",
    "    V = (u / d).T[:n_components]\n",
    "    X *= np.sqrt(X.shape[1])\n",
    "    \n",
    "    return np.dot(V, X), V\n",
    "#three functions\n",
    "def _logcosh(x):\n",
    "    gx = np.tanh(x)\n",
    "    g_x = 1- gx ** 2\n",
    "    return gx, g_x.mean(-1)\n",
    "\n",
    "def _exp(x):\n",
    "    exp = np.exp(-(x ** 2) / 2)\n",
    "    gx = x * exp\n",
    "    g_x = (1 - x ** 2) * exp\n",
    "    return gx, g_x.mean(axis=-1)\n",
    "\n",
    "def _cube(x):\n",
    "    return x ** 3, (3 * x ** 2).mean(axis=-1)\n",
    "\n",
    "def decorrelation(W):\n",
    "    s, u = la.eigh(np.dot(W, W.T))\n",
    "    return np.dot(np.dot(u * (1. / np.sqrt(s)), u.T), W)\n",
    "\n",
    "# fastICA\n",
    "def fastICA(X, fun='logcosh',n_components=None, maxIter = 200, tol = 1e-04):\n",
    "    X = X.T\n",
    "    n, m = X.shape\n",
    "    if n_components is None:\n",
    "        n_components = n\n",
    "    X1,V = whiten(X,n_components)\n",
    "    p = float(m)\n",
    "    if fun == 'logcosh':\n",
    "        g = _logcosh\n",
    "    elif fun == 'exp':\n",
    "        g = _exp\n",
    "    elif fun == 'cube':\n",
    "        g = _cube\n",
    "    \n",
    "    #initialize w with normal distribution\n",
    "    W = np.asarray(np.random.normal(size=(n_components,n_components)))\n",
    "\n",
    "    # calculate w iteratively\n",
    "  \n",
    "    for ii in range(maxIter):\n",
    "        gwtx, g_wtx = g(np.dot(W, X1))\n",
    "        W1 = decorrelation(np.dot(gwtx, X1.T) / p - g_wtx[:, None] * W)\n",
    "        lim = max(abs(abs(np.diag(np.dot(W1, W.T))) - 1))\n",
    "        W = W1\n",
    "        if lim < tol:\n",
    "            break\n",
    "    S = np.dot(np.dot(W, V), X).T\n",
    "    return V,W,S\n",
    "if __name__ == '__main__':\n",
    "    fastICA()"
   ]
  },
  {
   "cell_type": "code",
   "execution_count": 1,
   "metadata": {},
   "outputs": [
    {
     "name": "stdout",
     "output_type": "stream",
     "text": [
      "Overwriting setup.py\n"
     ]
    }
   ],
   "source": [
    "%%file setup.py\n",
    "from setuptools import setup\n",
    "import setuptools\n",
    "\n",
    "setup(name = \"fastica\",\n",
    "      version = \"1.0\",\n",
    "      author='Zhechang Yang and Xi Chen',\n",
    "      author_email='zhechang.yang@duke.edu',\n",
    "      url='http://people.duke.edu/~ccc14/sta-663-2018/',\n",
    "      py_modules = ['fastica'],\n",
    "      packages=setuptools.find_packages(),\n",
    "      scripts = ['fastica.py'],\n",
    "      python_requires='>=3',\n",
    "      )"
   ]
  },
  {
   "cell_type": "code",
   "execution_count": 5,
   "metadata": {},
   "outputs": [
    {
     "name": "stdout",
     "output_type": "stream",
     "text": [
      "Writing README.md\n"
     ]
    }
   ],
   "source": [
    "%%file README.md\n",
    "\n",
    "fastica algorithm"
   ]
  },
  {
   "cell_type": "code",
   "execution_count": 26,
   "metadata": {
    "scrolled": true
   },
   "outputs": [
    {
     "name": "stdout",
     "output_type": "stream",
     "text": [
      "running sdist\n",
      "running egg_info\n",
      "writing fastica.egg-info/PKG-INFO\n",
      "writing dependency_links to fastica.egg-info/dependency_links.txt\n",
      "writing top-level names to fastica.egg-info/top_level.txt\n",
      "reading manifest file 'fastica.egg-info/SOURCES.txt'\n",
      "writing manifest file 'fastica.egg-info/SOURCES.txt'\n",
      "running check\n",
      "creating fastica-1.0\n",
      "creating fastica-1.0/fastica.egg-info\n",
      "copying files to fastica-1.0...\n",
      "copying README.md -> fastica-1.0\n",
      "copying fastica.py -> fastica-1.0\n",
      "copying setup.py -> fastica-1.0\n",
      "copying fastica.egg-info/PKG-INFO -> fastica-1.0/fastica.egg-info\n",
      "copying fastica.egg-info/SOURCES.txt -> fastica-1.0/fastica.egg-info\n",
      "copying fastica.egg-info/dependency_links.txt -> fastica-1.0/fastica.egg-info\n",
      "copying fastica.egg-info/top_level.txt -> fastica-1.0/fastica.egg-info\n",
      "Writing fastica-1.0/setup.cfg\n",
      "Creating tar archive\n",
      "removing 'fastica-1.0' (and everything under it)\n"
     ]
    }
   ],
   "source": [
    "%%bash\n",
    "\n",
    "python setup.py sdist"
   ]
  },
  {
   "cell_type": "code",
   "execution_count": 29,
   "metadata": {},
   "outputs": [
    {
     "name": "stdout",
     "output_type": "stream",
     "text": [
      "Overwriting __init__.py\n"
     ]
    }
   ],
   "source": [
    "%%file __init__.py\n",
    " \n",
    "__author__ = 'zhechang'  \n",
    "__all__=[\"fastica\"]"
   ]
  },
  {
   "cell_type": "code",
   "execution_count": 30,
   "metadata": {},
   "outputs": [
    {
     "name": "stdout",
     "output_type": "stream",
     "text": [
      "running install\n",
      "running bdist_egg\n",
      "running egg_info\n",
      "writing fastica.egg-info/PKG-INFO\n",
      "writing dependency_links to fastica.egg-info/dependency_links.txt\n",
      "writing top-level names to fastica.egg-info/top_level.txt\n",
      "reading manifest file 'fastica.egg-info/SOURCES.txt'\n",
      "writing manifest file 'fastica.egg-info/SOURCES.txt'\n",
      "installing library code to build/bdist.linux-x86_64/egg\n",
      "running install_lib\n",
      "running build_py\n",
      "creating build/bdist.linux-x86_64/egg\n",
      "copying build/lib/fastica.py -> build/bdist.linux-x86_64/egg\n",
      "byte-compiling build/bdist.linux-x86_64/egg/fastica.py to fastica.cpython-36.pyc\n",
      "creating build/bdist.linux-x86_64/egg/EGG-INFO\n",
      "installing scripts to build/bdist.linux-x86_64/egg/EGG-INFO/scripts\n",
      "running install_scripts\n",
      "running build_scripts\n",
      "creating build/bdist.linux-x86_64/egg/EGG-INFO/scripts\n",
      "copying build/scripts-3.6/fastica.py -> build/bdist.linux-x86_64/egg/EGG-INFO/scripts\n",
      "changing mode of build/bdist.linux-x86_64/egg/EGG-INFO/scripts/fastica.py to 755\n",
      "copying fastica.egg-info/PKG-INFO -> build/bdist.linux-x86_64/egg/EGG-INFO\n",
      "copying fastica.egg-info/SOURCES.txt -> build/bdist.linux-x86_64/egg/EGG-INFO\n",
      "copying fastica.egg-info/dependency_links.txt -> build/bdist.linux-x86_64/egg/EGG-INFO\n",
      "copying fastica.egg-info/top_level.txt -> build/bdist.linux-x86_64/egg/EGG-INFO\n",
      "creating 'dist/fastica-1.0-py3.6.egg' and adding 'build/bdist.linux-x86_64/egg' to it\n",
      "removing 'build/bdist.linux-x86_64/egg' (and everything under it)\n",
      "Processing fastica-1.0-py3.6.egg\n",
      "Removing /opt/conda/lib/python3.6/site-packages/fastica-1.0-py3.6.egg\n",
      "Copying fastica-1.0-py3.6.egg to /opt/conda/lib/python3.6/site-packages\n",
      "Adding fastica 1.0 to easy-install.pth file\n"
     ]
    },
    {
     "name": "stderr",
     "output_type": "stream",
     "text": [
      "zip_safe flag not set; analyzing archive contents...\n",
      "error: [Errno 13] Permission denied: '/opt/conda/lib/python3.6/site-packages/easy-install.pth'\n"
     ]
    }
   ],
   "source": [
    "%%bash\n",
    "python setup.py install"
   ]
  },
  {
   "cell_type": "code",
   "execution_count": 3,
   "metadata": {},
   "outputs": [],
   "source": [
    "import fastica"
   ]
  },
  {
   "cell_type": "code",
   "execution_count": 6,
   "metadata": {},
   "outputs": [],
   "source": [
    "import numpy as np\n",
    "A = np.random.random((4,4))"
   ]
  },
  {
   "cell_type": "code",
   "execution_count": 11,
   "metadata": {},
   "outputs": [
    {
     "data": {
      "text/plain": [
       "(array([[-7.22821050e-01, -9.55911702e-01,  7.19526022e-01,\n",
       "         -1.47471528e-01],\n",
       "        [ 1.85538698e-01, -1.03693703e+00, -1.27201796e+00,\n",
       "         -3.94252727e-01],\n",
       "        [-3.79673416e+00,  1.72666611e+00, -1.69580077e+00,\n",
       "         -8.56800969e-01],\n",
       "        [-1.38992875e+15, -1.08139099e+15, -1.43509351e+15,\n",
       "          6.82027880e+15]]),\n",
       " array([[ 0.49293207, -0.77570231, -0.02923837,  0.39300004],\n",
       "        [-0.39761904, -0.57739843, -0.26787908, -0.66087135],\n",
       "        [ 0.11133491, -0.13092599,  0.92856501, -0.32898319],\n",
       "        [ 0.76584699,  0.21853003, -0.25525072, -0.54824272]]),\n",
       " array([[ 1.86850743e+15, -3.14209394e+15, -1.56414115e+15,\n",
       "         -2.60660434e+15],\n",
       "        [ 1.86850743e+15, -3.14209394e+15, -1.56414115e+15,\n",
       "         -2.60660434e+15],\n",
       "        [ 1.86850743e+15, -3.14209394e+15, -1.56414115e+15,\n",
       "         -2.60660434e+15],\n",
       "        [ 1.86850743e+15, -3.14209394e+15, -1.56414115e+15,\n",
       "         -2.60660434e+15]]))"
      ]
     },
     "execution_count": 11,
     "metadata": {},
     "output_type": "execute_result"
    }
   ],
   "source": [
    "fastica.fastICA(A)"
   ]
  },
  {
   "cell_type": "code",
   "execution_count": 35,
   "metadata": {},
   "outputs": [],
   "source": [
    "! cd build"
   ]
  },
  {
   "cell_type": "code",
   "execution_count": 36,
   "metadata": {},
   "outputs": [
    {
     "name": "stdout",
     "output_type": "stream",
     "text": [
      "build  fastica.egg-info  fastica.ipynb\t__init__.py  README.md\r\n",
      "dist   fastICA.egg-info  fastica.py\t__pycache__  setup.py\r\n"
     ]
    }
   ],
   "source": [
    "! ls"
   ]
  }
 ],
 "metadata": {
  "kernelspec": {
   "display_name": "Python 3",
   "language": "python",
   "name": "python3"
  },
  "language_info": {
   "codemirror_mode": {
    "name": "ipython",
    "version": 3
   },
   "file_extension": ".py",
   "mimetype": "text/x-python",
   "name": "python",
   "nbconvert_exporter": "python",
   "pygments_lexer": "ipython3",
   "version": "3.6.5"
  }
 },
 "nbformat": 4,
 "nbformat_minor": 2
}
