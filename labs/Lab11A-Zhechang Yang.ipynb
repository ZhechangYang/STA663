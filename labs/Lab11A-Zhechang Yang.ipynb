{
 "cells": [
  {
   "cell_type": "code",
   "execution_count": 49,
   "metadata": {},
   "outputs": [],
   "source": [
    "%matplotlib inline"
   ]
  },
  {
   "cell_type": "code",
   "execution_count": 50,
   "metadata": {},
   "outputs": [],
   "source": [
    "import os\n",
    "import numpy as np\n",
    "import pandas as pd\n",
    "import matplotlib.pyplot as plt"
   ]
  },
  {
   "cell_type": "markdown",
   "metadata": {},
   "source": [
    "# Parallel Processing "
   ]
  },
  {
   "cell_type": "markdown",
   "metadata": {},
   "source": [
    "**1**. (30 points) Accelerating network bound procedures.\n",
    "\n",
    "Python code to show PNG images available on the URL `http://people.duke.edu/~ccc14/misc/` is provided.\n",
    "\n",
    "- Write a funciton `download_one(url, path)` that downloads one image given a `url` and saves the image to `path` (5 points)\n",
    "    \n",
    "For the exercises below, save the image file to the local directory using the same fileanme as on `http://people.duke.edu/~ccc14/misc/`. You can just use the `%%time` magic to time the downloads.\n",
    " \n",
    "- Write a for loop to download all images and time how long it takes (5 points)\n",
    "- Write a function that uses `concurrent.futures` and a thread pool with 4 threads to download all images and time how long it takes (5 points)\n",
    "- Write a function that uses `multiprocessing` and a process pool with 4 processes to download all images and time how long it takes (5 points)\n",
    "- Write a function that uses `ipyparallel` and a process pool with 4 processes to download all images and time how long it takes (10 points)"
   ]
  },
  {
   "cell_type": "code",
   "execution_count": 51,
   "metadata": {},
   "outputs": [
    {
     "name": "stdout",
     "output_type": "stream",
     "text": [
      "http://people.duke.edu/~ccc14/misc/250px-002Ivysaur.png\n",
      "http://people.duke.edu/~ccc14/misc/250px-003Venusaur.png\n",
      "http://people.duke.edu/~ccc14/misc/250px-004Charmander.png\n",
      "http://people.duke.edu/~ccc14/misc/250px-005Charmeleon.png\n",
      "http://people.duke.edu/~ccc14/misc/250px-006Charizard.png\n",
      "http://people.duke.edu/~ccc14/misc/250px-008Wartortle.png\n",
      "http://people.duke.edu/~ccc14/misc/250px-009Blastoise.png\n",
      "http://people.duke.edu/~ccc14/misc/250px-012Butterfree.png\n",
      "http://people.duke.edu/~ccc14/misc/250px-015Beedrill.png\n",
      "http://people.duke.edu/~ccc14/misc/250px-016Pidgey.png\n",
      "http://people.duke.edu/~ccc14/misc/250px-017Pidgeotto.png\n",
      "http://people.duke.edu/~ccc14/misc/250px-018Pidgeot.png\n",
      "http://people.duke.edu/~ccc14/misc/250px-019Rattata.png\n",
      "http://people.duke.edu/~ccc14/misc/250px-020Raticate.png\n",
      "http://people.duke.edu/~ccc14/misc/250px-021Spearow.png\n",
      "http://people.duke.edu/~ccc14/misc/250px-022Fearow.png\n",
      "http://people.duke.edu/~ccc14/misc/250px-023Ekans.png\n",
      "http://people.duke.edu/~ccc14/misc/250px-024Arbok.png\n",
      "http://people.duke.edu/~ccc14/misc/250px-025Pikachu.png\n",
      "http://people.duke.edu/~ccc14/misc/250px-026Raichu.png\n",
      "http://people.duke.edu/~ccc14/misc/250px-028Sandslash.png\n",
      "http://people.duke.edu/~ccc14/misc/250px-030Nidorina.png\n",
      "http://people.duke.edu/~ccc14/misc/250px-031Nidoqueen.png\n",
      "http://people.duke.edu/~ccc14/misc/250px-033Nidorino.png\n",
      "http://people.duke.edu/~ccc14/misc/250px-034Nidoking.png\n",
      "http://people.duke.edu/~ccc14/misc/250px-036Clefable.png\n",
      "http://people.duke.edu/~ccc14/misc/250px-037Vulpix.png\n",
      "http://people.duke.edu/~ccc14/misc/250px-038Ninetales.png\n",
      "http://people.duke.edu/~ccc14/misc/250px-041Zubat.png\n",
      "http://people.duke.edu/~ccc14/misc/250px-042Golbat.png\n",
      "http://people.duke.edu/~ccc14/misc/250px-049Venomoth.png\n",
      "http://people.duke.edu/~ccc14/misc/250px-050Diglett.png\n",
      "http://people.duke.edu/~ccc14/misc/250px-051Dugtrio.png\n",
      "http://people.duke.edu/~ccc14/misc/250px-052Meowth.png\n",
      "http://people.duke.edu/~ccc14/misc/250px-053Persian.png\n",
      "http://people.duke.edu/~ccc14/misc/250px-054Psyduck.png\n",
      "http://people.duke.edu/~ccc14/misc/250px-055Golduck.png\n",
      "http://people.duke.edu/~ccc14/misc/250px-056Mankey.png\n",
      "http://people.duke.edu/~ccc14/misc/250px-057Primeape.png\n",
      "http://people.duke.edu/~ccc14/misc/250px-058Growlithe.png\n",
      "http://people.duke.edu/~ccc14/misc/250px-059Arcanine.png\n",
      "http://people.duke.edu/~ccc14/misc/250px-060Poliwag.png\n",
      "http://people.duke.edu/~ccc14/misc/250px-061Poliwhirl.png\n",
      "http://people.duke.edu/~ccc14/misc/250px-062Poliwrath.png\n",
      "http://people.duke.edu/~ccc14/misc/250px-063Abra.png\n",
      "http://people.duke.edu/~ccc14/misc/250px-064Kadabra.png\n",
      "http://people.duke.edu/~ccc14/misc/250px-065Alakazam.png\n",
      "http://people.duke.edu/~ccc14/misc/250px-068Machamp.png\n",
      "http://people.duke.edu/~ccc14/misc/250px-070Weepinbell.png\n",
      "http://people.duke.edu/~ccc14/misc/250px-071Victreebel.png\n",
      "http://people.duke.edu/~ccc14/misc/250px-072Tentacool.png\n",
      "http://people.duke.edu/~ccc14/misc/250px-073Tentacruel.png\n",
      "http://people.duke.edu/~ccc14/misc/250px-077Ponyta.png\n",
      "http://people.duke.edu/~ccc14/misc/250px-078Rapidash.png\n",
      "http://people.duke.edu/~ccc14/misc/250px-082Magneton.png\n",
      "http://people.duke.edu/~ccc14/misc/250px-083Farfetch'd.png\n",
      "http://people.duke.edu/~ccc14/misc/250px-084Doduo.png\n",
      "http://people.duke.edu/~ccc14/misc/250px-085Dodrio.png\n",
      "http://people.duke.edu/~ccc14/misc/250px-087Dewgong.png\n",
      "http://people.duke.edu/~ccc14/misc/250px-091Cloyster.png\n",
      "http://people.duke.edu/~ccc14/misc/250px-092Gastly.png\n",
      "http://people.duke.edu/~ccc14/misc/250px-093Haunter.png\n",
      "http://people.duke.edu/~ccc14/misc/250px-094Gengar.png\n",
      "http://people.duke.edu/~ccc14/misc/250px-095Onix.png\n",
      "http://people.duke.edu/~ccc14/misc/250px-097Hypno.png\n",
      "http://people.duke.edu/~ccc14/misc/250px-099Kingler.png\n",
      "http://people.duke.edu/~ccc14/misc/250px-100Voltorb.png\n",
      "http://people.duke.edu/~ccc14/misc/250px-101Electrode.png\n",
      "http://people.duke.edu/~ccc14/misc/250px-103Exeggutor.png\n",
      "http://people.duke.edu/~ccc14/misc/250px-106Hitmonlee.png\n",
      "http://people.duke.edu/~ccc14/misc/250px-107Hitmonchan.png\n",
      "http://people.duke.edu/~ccc14/misc/250px-110Weezing.png\n",
      "http://people.duke.edu/~ccc14/misc/250px-114Tangela.png\n",
      "http://people.duke.edu/~ccc14/misc/250px-115Kangaskhan.png\n",
      "http://people.duke.edu/~ccc14/misc/250px-116Horsea.png\n",
      "http://people.duke.edu/~ccc14/misc/250px-117Seadra.png\n",
      "http://people.duke.edu/~ccc14/misc/250px-118Goldeen.png\n",
      "http://people.duke.edu/~ccc14/misc/250px-119Seaking.png\n",
      "http://people.duke.edu/~ccc14/misc/250px-120Staryu.png\n",
      "http://people.duke.edu/~ccc14/misc/250px-121Starmie.png\n",
      "http://people.duke.edu/~ccc14/misc/250px-122Mr._Mime.png\n",
      "http://people.duke.edu/~ccc14/misc/250px-123Scyther.png\n",
      "http://people.duke.edu/~ccc14/misc/250px-124Jynx.png\n",
      "http://people.duke.edu/~ccc14/misc/250px-125Electabuzz.png\n",
      "http://people.duke.edu/~ccc14/misc/250px-126Magmar.png\n",
      "http://people.duke.edu/~ccc14/misc/250px-127Pinsir.png\n",
      "http://people.duke.edu/~ccc14/misc/250px-128Tauros.png\n",
      "http://people.duke.edu/~ccc14/misc/250px-129Magikarp.png\n",
      "http://people.duke.edu/~ccc14/misc/250px-130Gyarados.png\n",
      "http://people.duke.edu/~ccc14/misc/250px-131Lapras.png\n",
      "http://people.duke.edu/~ccc14/misc/250px-133Eevee.png\n",
      "http://people.duke.edu/~ccc14/misc/250px-134Vaporeon.png\n",
      "http://people.duke.edu/~ccc14/misc/250px-135Jolteon.png\n",
      "http://people.duke.edu/~ccc14/misc/250px-136Flareon.png\n",
      "http://people.duke.edu/~ccc14/misc/250px-139Omastar.png\n",
      "http://people.duke.edu/~ccc14/misc/250px-140Kabuto.png\n",
      "http://people.duke.edu/~ccc14/misc/250px-141Kabutops.png\n",
      "http://people.duke.edu/~ccc14/misc/250px-142Aerodactyl.png\n",
      "http://people.duke.edu/~ccc14/misc/250px-144Articuno.png\n",
      "http://people.duke.edu/~ccc14/misc/250px-145Zapdos.png\n",
      "http://people.duke.edu/~ccc14/misc/250px-146Moltres.png\n",
      "http://people.duke.edu/~ccc14/misc/250px-148Dragonair.png\n",
      "http://people.duke.edu/~ccc14/misc/250px-149Dragonite.png\n",
      "http://people.duke.edu/~ccc14/misc/250px-150Mewtwo.png\n",
      "http://people.duke.edu/~ccc14/misc/250px-151Mew.png\n"
     ]
    }
   ],
   "source": [
    "import requests\n",
    "from bs4 import BeautifulSoup\n",
    "\n",
    "def listFD(url, ext=''):\n",
    "    page = requests.get(url).text\n",
    "    soup = BeautifulSoup(page, 'html.parser')\n",
    "    return [url + node.get('href') for node in soup.find_all('a') \n",
    "            if node.get('href').endswith(ext)]\n",
    "\n",
    "site = 'http://people.duke.edu/~ccc14/misc/'\n",
    "ext = 'png'\n",
    "for i, file in enumerate(listFD(site, ext)):\n",
    "    print(file)"
   ]
  },
  {
   "cell_type": "markdown",
   "metadata": {},
   "source": [
    "### Function to download a single image at URL to PATH"
   ]
  },
  {
   "cell_type": "code",
   "execution_count": 52,
   "metadata": {},
   "outputs": [],
   "source": [
    "def download_one(url,path):\n",
    "    import requests\n",
    "    r = requests.get(url, stream=True)\n",
    "    with open(path, 'wb') as f:\n",
    "        f.write(r.raw.read())"
   ]
  },
  {
   "cell_type": "markdown",
   "metadata": {},
   "source": [
    "### Using for loop"
   ]
  },
  {
   "cell_type": "code",
   "execution_count": 53,
   "metadata": {},
   "outputs": [],
   "source": [
    "files = listFD(site, ext)"
   ]
  },
  {
   "cell_type": "code",
   "execution_count": 54,
   "metadata": {},
   "outputs": [
    {
     "name": "stdout",
     "output_type": "stream",
     "text": [
      "CPU times: user 348 ms, sys: 96 ms, total: 444 ms\n",
      "Wall time: 8.59 s\n"
     ]
    }
   ],
   "source": [
    "%%time\n",
    "\n",
    "for url in files:\n",
    "    file_name = url.split('/')[-1]\n",
    "    download_one(url, file_name)"
   ]
  },
  {
   "cell_type": "markdown",
   "metadata": {},
   "source": [
    "### Using a thread pool"
   ]
  },
  {
   "cell_type": "code",
   "execution_count": 55,
   "metadata": {},
   "outputs": [
    {
     "name": "stdout",
     "output_type": "stream",
     "text": [
      "CPU times: user 332 ms, sys: 116 ms, total: 448 ms\n",
      "Wall time: 2.75 s\n"
     ]
    }
   ],
   "source": [
    "%%time\n",
    "from concurrent.futures import ThreadPoolExecutor\n",
    "\n",
    "file_path = [(url,url.split('/')[-1]) for url in files]\n",
    "with ThreadPoolExecutor(max_workers=4) as pool:\n",
    "    pool.map(lambda x: download_one(x[0],x[1]), file_path)"
   ]
  },
  {
   "cell_type": "markdown",
   "metadata": {},
   "source": [
    "### Using a process pool"
   ]
  },
  {
   "cell_type": "code",
   "execution_count": 56,
   "metadata": {},
   "outputs": [
    {
     "name": "stdout",
     "output_type": "stream",
     "text": [
      "CPU times: user 8 ms, sys: 32 ms, total: 40 ms\n",
      "Wall time: 2.34 s\n"
     ]
    }
   ],
   "source": [
    "%%time\n",
    "\n",
    "from multiprocessing import Pool\n",
    "\n",
    "file_path = [(url,url.split('/')[-1]) for url in files]\n",
    "with Pool(processes=4) as pool:\n",
    "    pool.starmap(download_one, file_path)"
   ]
  },
  {
   "cell_type": "markdown",
   "metadata": {},
   "source": [
    "### Using `ipyparallel`"
   ]
  },
  {
   "cell_type": "code",
   "execution_count": 57,
   "metadata": {},
   "outputs": [
    {
     "name": "stdout",
     "output_type": "stream",
     "text": [
      "CPU times: user 56 ms, sys: 32 ms, total: 88 ms\n",
      "Wall time: 2.18 s\n"
     ]
    }
   ],
   "source": [
    "%%time\n",
    "\n",
    "from ipyparallel import Client\n",
    "\n",
    "rc = Client()\n",
    "dv = rc[:]\n",
    "path = [url.split('/')[-1] for url in files]\n",
    "res = dv.map_sync(download_one, files, path)"
   ]
  }
 ],
 "metadata": {
  "kernelspec": {
   "display_name": "Python 3",
   "language": "python",
   "name": "python3"
  },
  "language_info": {
   "codemirror_mode": {
    "name": "ipython",
    "version": 3
   },
   "file_extension": ".py",
   "mimetype": "text/x-python",
   "name": "python",
   "nbconvert_exporter": "python",
   "pygments_lexer": "ipython3",
   "version": "3.6.5"
  },
  "latex_envs": {
   "bibliofile": "biblio.bib",
   "cite_by": "apalike",
   "current_citInitial": 1,
   "eqLabelWithNumbers": true,
   "eqNumInitial": 0
  }
 },
 "nbformat": 4,
 "nbformat_minor": 2
}
