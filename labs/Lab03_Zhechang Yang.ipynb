{
 "cells": [
  {
   "cell_type": "markdown",
   "metadata": {},
   "source": [
    "**Brief Honor Code**. Do the homework on your own. You may discuss ideas with your classmates, but DO NOT copy the solutions from someone else or the Internet. If stuck, discuss with TA."
   ]
  },
  {
   "cell_type": "markdown",
   "metadata": {},
   "source": [
    "**1**. (50 points)\n",
    "\n",
    "Write separate `toolz` pipelines to generate the following variables\n",
    "\n",
    "- words: a list of all the words in the files `fortune?.txt` in the `data` directory\n",
    "- reverse_index: a reverse index of words (key=position, value=word)\n",
    "- index: an index of words (key=word, value=position)\n",
    "- cat: a list containing the categorical encoding of words\n",
    "\n",
    "Finally, use `numpy` to convert `cat` into a one-hot matrix with shape (#words, #unique words)"
   ]
  },
  {
   "cell_type": "code",
   "execution_count": 23,
   "metadata": {},
   "outputs": [],
   "source": [
    "import os\n",
    "import glob\n",
    "import numpy as np\n",
    "import pandas as pd\n",
    "import scipy.stats as stats\n",
    "\n",
    "import string\n",
    "import re\n",
    "\n",
    "from functools import reduce, partial\n",
    "import itertools as it\n",
    "import operator as op\n",
    "import toolz as tz\n",
    "import toolz.curried as c\n",
    "\n",
    "paths = glob.glob(os.path.join('data','fortune?.txt') )\n",
    "#generate words\n",
    "words = tz.pipe(\n",
    "    paths,\n",
    "    c.map(partial(open, encoding='utf-8')),\n",
    "    c.map(lambda x: x.read()),\n",
    "    c.map(lambda x: x.lower()),\n",
    "    c.map(lambda x: x.translate(str.maketrans('', '', string.punctuation))),\n",
    "    c.map(lambda x: x.split()),\n",
    "    tz.concat,\n",
    "    list\n",
    ")"
   ]
  },
  {
   "cell_type": "code",
   "execution_count": 18,
   "metadata": {},
   "outputs": [],
   "source": [
    "unique_words = tz.pipe(\n",
    "    words,\n",
    "    tz.unique,\n",
    "    list\n",
    ")\n",
    "reverse_index = tz.pipe(\n",
    "    unique_words,\n",
    "    c.map(lambda x: unique_words.index(x)),\n",
    "    lambda x: zip(x,unique_words),\n",
    "    dict\n",
    ")"
   ]
  },
  {
   "cell_type": "code",
   "execution_count": 20,
   "metadata": {},
   "outputs": [],
   "source": [
    "index = tz.pipe(\n",
    "    unique_words,\n",
    "    c.map(lambda x: unique_words.index(x)),\n",
    "    lambda x: zip(unique_words,x),\n",
    "    dict\n",
    ")"
   ]
  },
  {
   "cell_type": "code",
   "execution_count": 22,
   "metadata": {},
   "outputs": [],
   "source": [
    "cat = tz.pipe(\n",
    "    words,\n",
    "    c.map(lambda x: index[x]),\n",
    "    list\n",
    ")"
   ]
  },
  {
   "cell_type": "code",
   "execution_count": 26,
   "metadata": {},
   "outputs": [
    {
     "data": {
      "text/plain": [
       "array([[1, 0, 0, ..., 0, 0, 0],\n",
       "       [0, 1, 0, ..., 0, 0, 0],\n",
       "       [0, 0, 1, ..., 0, 0, 0],\n",
       "       ..., \n",
       "       [0, 0, 0, ..., 0, 1, 0],\n",
       "       [0, 0, 0, ..., 0, 0, 0],\n",
       "       [0, 0, 0, ..., 0, 0, 1]])"
      ]
     },
     "execution_count": 26,
     "metadata": {},
     "output_type": "execute_result"
    }
   ],
   "source": [
    "#one-hot matrix\n",
    "n = len(cat)\n",
    "p = len(index)\n",
    "m = np.zeros((n,p), dtype='int')\n",
    "i = np.arange(len(cat))\n",
    "m[i, cat] = 1\n",
    "m"
   ]
  },
  {
   "cell_type": "markdown",
   "metadata": {},
   "source": [
    "**2**. (50 points)\n",
    "\n",
    "Write a simulation of diffusion-limited aggregation. In this simulation, we have $n$ random walkers. Each walker starts from row 0 and a random column number, and in each step, the walker increases the row number by 1 and randomly increments or decrements its column number by 1. If the column number of the walker exceeds the maximum or becomes negative, the walker emerges on the other side (toroidal boundary conditions). At any time, if any of the walkers 8 neighbors is non-zero, the walker stops in that position, and the number of steps taken is recorded in that (row, column).\n",
    "\n",
    "Write a function `dla(nwalkers, width, height, seed)` that returns a matrix with shape (width, height) after running `nwalkers` random walks as described above. The argument `ssed` is used to initialize a random number seed. Internally, the function should create a (width, height+1) matrix, and initialize the last row to have 1 with all other entries 0.\n",
    "\n",
    "Feel free to use loops. This function is not easily vectorized.\n",
    "\n",
    "Plot the returned matrix for the arguments `nwalkers=10000, width=300, height=150, seed=123`. It should look like this:\n",
    "\n",
    "![dla](figs/dla.png)"
   ]
  },
  {
   "cell_type": "code",
   "execution_count": 78,
   "metadata": {},
   "outputs": [
    {
     "data": {
      "image/png": "[encoded data removed]",
      "text/plain": [
       "<matplotlib.figure.Figure at 0x7f69d299ad30>"
      ]
     },
     "metadata": {},
     "output_type": "display_data"
    }
   ],
   "source": [
    "import matplotlib.pyplot as plt\n",
    "nwalkers=10000\n",
    "width=300\n",
    "height=150\n",
    "seed=123\n",
    "def neighbor(matrix,i,j):\n",
    "    x = [-1,0,1]\n",
    "    y = [-1,0,1]\n",
    "    for m in x:\n",
    "        for n in y:\n",
    "            if(m!=0 or n!=0):                \n",
    "                if((i+m>=0 and i+m<matrix.shape[0]) and (j+n>=0)and(j+n<matrix.shape[1])):\n",
    "                    if matrix[i+m,j+n]>0: \n",
    "                        return True\n",
    "    return False\n",
    "def update(matrix,height,width):\n",
    "    start = np.random.randint(0,width,1)    \n",
    "    curr_i = 0\n",
    "    curr_j = start[0]\n",
    "    for i in range(1,height+1):\n",
    "        curr_j = curr_j + np.random.binomial(1,0.5)*2-1\n",
    "        curr_i = curr_i + 1\n",
    "        if(curr_j < 0):\n",
    "            curr_j = width - 1\n",
    "        elif(curr_j >= width):\n",
    "            curr_j = 0\n",
    "        if((i==height) or neighbor(matrix,curr_i,curr_j)):\n",
    "            matrix[curr_i,curr_j] = i\n",
    "            break\n",
    "    return matrix\n",
    "\n",
    "def dla(nwalkers, width, height, seed):\n",
    "    np.random.seed(seed)\n",
    "    matrix = np.zeros((height+1,width),dtype=int)\n",
    "    for i in range(nwalkers):\n",
    "        matrix = update(matrix,height,width)\n",
    "    return matrix[1:,:]\n",
    "matrix = dla(nwalkers, width, height, seed)\n",
    "plt.imshow(matrix)\n",
    "plt.xticks([])\n",
    "plt.yticks([])\n",
    "pass"
   ]
  },
  {
   "cell_type": "code",
   "execution_count": 79,
   "metadata": {},
   "outputs": [
    {
     "data": {
      "text/plain": [
       "(150, 300)"
      ]
     },
     "execution_count": 79,
     "metadata": {},
     "output_type": "execute_result"
    }
   ],
   "source": [
    "matrix.shape"
   ]
  }
 ],
 "metadata": {
  "kernelspec": {
   "display_name": "Python 3",
   "language": "python",
   "name": "python3"
  },
  "language_info": {
   "codemirror_mode": {
    "name": "ipython",
    "version": 3
   },
   "file_extension": ".py",
   "mimetype": "text/x-python",
   "name": "python",
   "nbconvert_exporter": "python",
   "pygments_lexer": "ipython3",
   "version": "3.6.3"
  }
 },
 "nbformat": 4,
 "nbformat_minor": 2
}
