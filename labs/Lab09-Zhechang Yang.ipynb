{
 "cells": [
  {
   "cell_type": "markdown",
   "metadata": {},
   "source": [
    "**1.** (10 points)\n",
    "\n",
    "Use loop to generate the 12 by 12 times table. Compile and run. You don't have to worry much about formatting, but the output should have 12 rows with numbers separated by spaces."
   ]
  },
  {
   "cell_type": "code",
   "execution_count": 7,
   "metadata": {},
   "outputs": [
    {
     "name": "stdout",
     "output_type": "stream",
     "text": [
      "Overwriting ex01.cpp\n"
     ]
    }
   ],
   "source": [
    "%%file ex01.cpp\n",
    "\n",
    "#include <iostream>\n",
    "using std::cout;\n",
    "\n",
    "int main() {\n",
    "    for (int i=1; i<=12; i++){\n",
    "        for (int j=1; j<=12; j++){\n",
    "            cout << i+j << \"\\t\";\n",
    "        }\n",
    "        cout << \"\\n\";\n",
    "    }\n",
    "}"
   ]
  },
  {
   "cell_type": "code",
   "execution_count": 8,
   "metadata": {},
   "outputs": [],
   "source": [
    "%%bash\n",
    "\n",
    "g++ -o ex01.exe ex01.cpp -std=c++14"
   ]
  },
  {
   "cell_type": "code",
   "execution_count": 9,
   "metadata": {},
   "outputs": [
    {
     "name": "stdout",
     "output_type": "stream",
     "text": [
      "2\t3\t4\t5\t6\t7\t8\t9\t10\t11\t12\t13\t\n",
      "3\t4\t5\t6\t7\t8\t9\t10\t11\t12\t13\t14\t\n",
      "4\t5\t6\t7\t8\t9\t10\t11\t12\t13\t14\t15\t\n",
      "5\t6\t7\t8\t9\t10\t11\t12\t13\t14\t15\t16\t\n",
      "6\t7\t8\t9\t10\t11\t12\t13\t14\t15\t16\t17\t\n",
      "7\t8\t9\t10\t11\t12\t13\t14\t15\t16\t17\t18\t\n",
      "8\t9\t10\t11\t12\t13\t14\t15\t16\t17\t18\t19\t\n",
      "9\t10\t11\t12\t13\t14\t15\t16\t17\t18\t19\t20\t\n",
      "10\t11\t12\t13\t14\t15\t16\t17\t18\t19\t20\t21\t\n",
      "11\t12\t13\t14\t15\t16\t17\t18\t19\t20\t21\t22\t\n",
      "12\t13\t14\t15\t16\t17\t18\t19\t20\t21\t22\t23\t\n",
      "13\t14\t15\t16\t17\t18\t19\t20\t21\t22\t23\t24\t\n"
     ]
    }
   ],
   "source": [
    "%%bash\n",
    "./ex01.exe"
   ]
  },
  {
   "cell_type": "markdown",
   "metadata": {},
   "source": [
    "**2.** (10 points)\n",
    " \n",
    "Write a function that takes a vector of doubles  returns the squared vector. Compile and run the function with the initial vector containing 1.0, 2.0, 3.0, 4.0, 5.0."
   ]
  },
  {
   "cell_type": "code",
   "execution_count": 13,
   "metadata": {},
   "outputs": [
    {
     "name": "stdout",
     "output_type": "stream",
     "text": [
      "Overwriting ex02.cpp\n"
     ]
    }
   ],
   "source": [
    "%%file ex02.cpp\n",
    "\n",
    "#include <iostream>\n",
    "#include <vector>\n",
    "\n",
    "using std::cout;\n",
    "using std::vector;\n",
    "\n",
    "vector<double> square(vector<double> xs){\n",
    "    vector<double> res;\n",
    "    for (auto x:xs){\n",
    "        res.push_back(x * x);\n",
    "    }\n",
    "    return res;\n",
    "}        \n",
    "        \n",
    "int main(){\n",
    "    vector<double> xs;\n",
    "    for (int i=1; i<=5; i++){\n",
    "        xs.push_back(i);\n",
    "    }\n",
    "    auto ys = square(xs);\n",
    "    for (auto y:ys){\n",
    "        cout << y << \"\\n\";\n",
    "    }\n",
    "}"
   ]
  },
  {
   "cell_type": "code",
   "execution_count": 14,
   "metadata": {},
   "outputs": [],
   "source": [
    "%%bash\n",
    "g++ -o ex02.exe ex02.cpp -std=c++14"
   ]
  },
  {
   "cell_type": "code",
   "execution_count": 15,
   "metadata": {},
   "outputs": [
    {
     "name": "stdout",
     "output_type": "stream",
     "text": [
      "1\n",
      "4\n",
      "9\n",
      "16\n",
      "25\n"
     ]
    }
   ],
   "source": [
    "%%bash\n",
    "./ex02.exe"
   ]
  },
  {
   "cell_type": "markdown",
   "metadata": {},
   "source": [
    "**3**. (10 points)\n",
    "\n",
    "Convert the function from Exercise 2 so that it works for lists or vectors of ints, floats and doubles."
   ]
  },
  {
   "cell_type": "code",
   "execution_count": 18,
   "metadata": {},
   "outputs": [
    {
     "name": "stdout",
     "output_type": "stream",
     "text": [
      "Overwriting ex03.cpp\n"
     ]
    }
   ],
   "source": [
    "%%file ex03.cpp\n",
    "\n",
    "#include <iostream>\n",
    "#include <vector>\n",
    "\n",
    "using std::cout;\n",
    "using std::vector;\n",
    "\n",
    "template<typename T>\n",
    "vector<T> square(vector<T> xs){\n",
    "    vector<T> res;\n",
    "    for (auto x:xs){\n",
    "        res.push_back(x * x);\n",
    "    }\n",
    "    return res;\n",
    "}        \n",
    "        \n",
    "int main(){\n",
    "    vector<int> xs;\n",
    "    for (int i=1; i<=5; i++){\n",
    "        xs.push_back(i);\n",
    "    }\n",
    "    auto ys = square(xs);\n",
    "    for (auto y:ys){\n",
    "        cout << y << \"\\n\";\n",
    "    }\n",
    "}"
   ]
  },
  {
   "cell_type": "code",
   "execution_count": 19,
   "metadata": {},
   "outputs": [],
   "source": [
    "%%bash\n",
    "g++ -o ex03.exe ex03.cpp -std=c++14"
   ]
  },
  {
   "cell_type": "code",
   "execution_count": 20,
   "metadata": {},
   "outputs": [
    {
     "name": "stdout",
     "output_type": "stream",
     "text": [
      "1\n",
      "4\n",
      "9\n",
      "16\n",
      "25\n"
     ]
    }
   ],
   "source": [
    "%%bash\n",
    "./ex03.exe"
   ]
  },
  {
   "cell_type": "markdown",
   "metadata": {},
   "source": [
    "**4**. (10 pionts)\n",
    "\n",
    "Write a function to calculate the mean of a vector of numbers using `accumulate` from the `<numeric>` library. Compile and test with some vectors."
   ]
  },
  {
   "cell_type": "code",
   "execution_count": 248,
   "metadata": {},
   "outputs": [
    {
     "name": "stdout",
     "output_type": "stream",
     "text": [
      "Overwriting ex04.cpp\n"
     ]
    }
   ],
   "source": [
    "%%file ex04.cpp\n",
    "\n",
    "#include <iostream>\n",
    "#include <vector>\n",
    "#include <numeric>\n",
    "\n",
    "using std::cout;\n",
    "using std::vector;\n",
    "\n",
    "template<typename T>\n",
    "auto cal_mean(vector<T> xs){\n",
    "    auto avg = (double)std::accumulate(begin(xs),end(xs),0)/xs.size();\n",
    "    return avg;\n",
    "}\n",
    "        \n",
    "int main(){\n",
    "    vector<int> xs;\n",
    "    for (int i=1; i<=6; i++){\n",
    "        xs.push_back(i);\n",
    "    } \n",
    "    auto res = cal_mean(xs);\n",
    "    cout << res << \"\\n\";\n",
    "}\n"
   ]
  },
  {
   "cell_type": "code",
   "execution_count": 249,
   "metadata": {},
   "outputs": [],
   "source": [
    "%%bash\n",
    "g++ -o ex04.exe ex04.cpp -std=c++14"
   ]
  },
  {
   "cell_type": "code",
   "execution_count": 250,
   "metadata": {},
   "outputs": [
    {
     "name": "stdout",
     "output_type": "stream",
     "text": [
      "3.5\n"
     ]
    }
   ],
   "source": [
    "%%bash\n",
    "./ex04.exe"
   ]
  },
  {
   "cell_type": "markdown",
   "metadata": {},
   "source": [
    "**5**. (10 points)\n",
    "\n",
    "Generate 1000 random points from the exponential distribution and save as a comma-separated values (CSV) file. Open the file in Python and plot the distribution using `plt.hist`."
   ]
  },
  {
   "cell_type": "code",
   "execution_count": 23,
   "metadata": {},
   "outputs": [
    {
     "name": "stdout",
     "output_type": "stream",
     "text": [
      "Overwriting random.cpp\n"
     ]
    }
   ],
   "source": [
    "%%file random.cpp\n",
    "\n",
    "#include <iostream>\n",
    "#include <random>\n",
    "#include <functional>\n",
    "#include <fstream>  \n",
    "#include <sstream>\n",
    "#include <string> \n",
    "\n",
    "using std::cout;\n",
    "using std::endl;\n",
    "using std::default_random_engine;\n",
    "using std::exponential_distribution;\n",
    "using std::bind;\n",
    "using std::ofstream;\n",
    "        \n",
    "default_random_engine re{123};\n",
    "\n",
    "exponential_distribution<double> expo(3);\n",
    "\n",
    "int main() \n",
    "{\n",
    "    auto rexp = bind(expo, re);\n",
    "    ofstream outputFile;\n",
    "    outputFile.open(\"random.csv\");\n",
    "    outputFile << \"random numbers\" <<\"\\n\"; //header\n",
    "    for (int i=0; i<1000; i++) {       \n",
    "        outputFile << rexp() <<\"\\n\";\n",
    "    }\n",
    "    outputFile.close();\n",
    "}"
   ]
  },
  {
   "cell_type": "code",
   "execution_count": 24,
   "metadata": {},
   "outputs": [],
   "source": [
    "%%bash\n",
    "\n",
    "g++ -o random.exe random.cpp -std=c++14"
   ]
  },
  {
   "cell_type": "code",
   "execution_count": 25,
   "metadata": {},
   "outputs": [],
   "source": [
    "%%bash\n",
    "\n",
    "./random.exe"
   ]
  },
  {
   "cell_type": "code",
   "execution_count": 28,
   "metadata": {},
   "outputs": [
    {
     "data": {
      "text/html": [
       "<div>\n",
       "<style scoped>\n",
       "    .dataframe tbody tr th:only-of-type {\n",
       "        vertical-align: middle;\n",
       "    }\n",
       "\n",
       "    .dataframe tbody tr th {\n",
       "        vertical-align: top;\n",
       "    }\n",
       "\n",
       "    .dataframe thead th {\n",
       "        text-align: right;\n",
       "    }\n",
       "</style>\n",
       "<table border=\"1\" class=\"dataframe\">\n",
       "  <thead>\n",
       "    <tr style=\"text-align: right;\">\n",
       "      <th></th>\n",
       "      <th>random numbers</th>\n",
       "    </tr>\n",
       "  </thead>\n",
       "  <tbody>\n",
       "    <tr>\n",
       "      <th>0</th>\n",
       "      <td>0.065804</td>\n",
       "    </tr>\n",
       "    <tr>\n",
       "      <th>1</th>\n",
       "      <td>0.178126</td>\n",
       "    </tr>\n",
       "    <tr>\n",
       "      <th>2</th>\n",
       "      <td>0.895984</td>\n",
       "    </tr>\n",
       "    <tr>\n",
       "      <th>3</th>\n",
       "      <td>0.231289</td>\n",
       "    </tr>\n",
       "    <tr>\n",
       "      <th>4</th>\n",
       "      <td>1.139380</td>\n",
       "    </tr>\n",
       "  </tbody>\n",
       "</table>\n",
       "</div>"
      ],
      "text/plain": [
       "   random numbers\n",
       "0        0.065804\n",
       "1        0.178126\n",
       "2        0.895984\n",
       "3        0.231289\n",
       "4        1.139380"
      ]
     },
     "execution_count": 28,
     "metadata": {},
     "output_type": "execute_result"
    }
   ],
   "source": [
    "import pandas as pd\n",
    "import matplotlib.pyplot as plt\n",
    "\n",
    "data = pd.read_csv('random.csv')\n",
    "data.head()"
   ]
  },
  {
   "cell_type": "code",
   "execution_count": 34,
   "metadata": {},
   "outputs": [
    {
     "data": {
      "image/png": "[encoded data removed]",
      "text/plain": [
       "<matplotlib.figure.Figure at 0x7fcb7c299b70>"
      ]
     },
     "metadata": {},
     "output_type": "display_data"
    }
   ],
   "source": [
    "plt.hist(data['random numbers'],bins=20)\n",
    "pass"
   ]
  },
  {
   "cell_type": "markdown",
   "metadata": {},
   "source": [
    "**6**. (20 points)\n",
    "\n",
    "Implement Newton's method in 1D for root finding. Pass in the function and gradient as generalized function pointers. Use the method to find all roots of the polynomial equation $f(x) = x^3 - 7x - 6$. You may use the `std::abs` and `std::pow` from the `cmath` library."
   ]
  },
  {
   "cell_type": "code",
   "execution_count": 17,
   "metadata": {},
   "outputs": [
    {
     "data": {
      "image/png": "[encoded data removed]",
      "text/plain": [
       "<Figure size 432x288 with 1 Axes>"
      ]
     },
     "metadata": {},
     "output_type": "display_data"
    }
   ],
   "source": [
    "f = lambda x: x**3 - 7*x - 6\n",
    "r = np.roots([1, 0, -7, -6])\n",
    "\n",
    "xi = np.linspace(-2.5, 3.5, 100)\n",
    "plt.plot(xi, f(xi))\n",
    "plt.scatter(r, np.zeros_like(r), c='red')\n",
    "plt.axhline(0)\n",
    "plt.show()"
   ]
  },
  {
   "cell_type": "code",
   "execution_count": 143,
   "metadata": {},
   "outputs": [
    {
     "name": "stdout",
     "output_type": "stream",
     "text": [
      "Overwriting newton.cpp\n"
     ]
    }
   ],
   "source": [
    "%%file newton.cpp\n",
    "\n",
    "#include <iostream>\n",
    "#include <cmath>\n",
    "#include <vector>\n",
    "\n",
    "using std::cout;\n",
    "using std::endl;\n",
    "using std::abs;\n",
    "using std::pow;\n",
    "using namespace std;\n",
    "double tol = 1e-6;\n",
    "\n",
    "double func(double x){\n",
    "    return x*x*x-7*x-6;\n",
    "}\n",
    "double grad(double x){\n",
    "    return 3*x*x - 7.0;\n",
    "}\n",
    "\n",
    "double findroot(double x_start){\n",
    "    double x = x_start;\n",
    "    double alpha = 0.1;\n",
    "    double error = tol + 1; \n",
    "    int i = 0;\n",
    "    int max_iter = 200;\n",
    "\n",
    "    double x1;\n",
    "\n",
    "    while (error > tol && i < max_iter)\n",
    "    {\n",
    "        x = x - alpha * func(x) / grad(x);\n",
    "        error = abs(func(x));\n",
    "        i++;\n",
    "    }\n",
    "    return x;\n",
    "}\n",
    "int main(){\n",
    "    double x_start = -3;\n",
    "    vector<double> roots;\n",
    "    double root;\n",
    "    int num = 0;\n",
    "    while(num < 3){\n",
    "        root = findroot(x_start);\n",
    "        if(roots.size()==0){\n",
    "            roots.push_back(root);\n",
    "            num++;\n",
    "        }\n",
    "        else{\n",
    "            if(abs(roots[num-1]-root) > tol){\n",
    "                roots.push_back(root);\n",
    "                num++;\n",
    "            }\n",
    "        }\n",
    "        x_start++;\n",
    "    }\n",
    "    for(int i = 0; i < 3; i++){       \n",
    "        cout<<\"Root \"<<i+1 << \" is: \"<<roots[i]<<endl;       \n",
    "    }\n",
    "}"
   ]
  },
  {
   "cell_type": "code",
   "execution_count": 144,
   "metadata": {},
   "outputs": [],
   "source": [
    "%%bash\n",
    "\n",
    "g++ -o newton.exe newton.cpp -std=c++14"
   ]
  },
  {
   "cell_type": "code",
   "execution_count": 145,
   "metadata": {},
   "outputs": [
    {
     "name": "stdout",
     "output_type": "stream",
     "text": [
      "Root 1 is: -2\n",
      "Root 2 is: -1\n",
      "Root 3 is: 3\n"
     ]
    }
   ],
   "source": [
    "%%bash\n",
    "\n",
    "./newton.exe"
   ]
  },
  {
   "cell_type": "markdown",
   "metadata": {},
   "source": [
    "**7**.  (30 points)\n",
    "\n",
    "Use the Eigen library to\n",
    "\n",
    "- Generate 10 x-coordinates linearly spaced between 10 and 15\n",
    "- Generate 10 random y-values as $y = 3x^2 - 7x + 2 + \\epsilon$ where $\\epsilon \\sim 10 N(0,1)$\n",
    "- Find the length of $x$ and $y$ and the Euclidean distance between $x$ and $y$\n",
    "- Find the correlation between $x$ and $y$ using\n",
    "![img](https://wikimedia.org/api/rest_v1/media/math/render/svg/60e3f3116e2923c792aafb904dcac308624a1d77)\n",
    "- Solve the linear system to find a quadratic fit for this data\n",
    "\n",
    "If you use the seed 12345 for the random number generator, you should get the following solutions."
   ]
  },
  {
   "cell_type": "code",
   "execution_count": 21,
   "metadata": {
    "collapsed": true
   },
   "outputs": [],
   "source": [
    "x = np.array('10 10.5556 11.1111 11.6667 12.2222 12.7778 13.3333 13.8889 14.4444 15'.split()).astype('float')\n",
    "y = np.array('232.862 264.056 310.697 322.345 359.037 412.095 448.471 468.163 533.646 579.763'.split()).astype('float')"
   ]
  },
  {
   "cell_type": "code",
   "execution_count": 22,
   "metadata": {},
   "outputs": [
    {
     "data": {
      "text/plain": [
       "(39.84924833168124, 1290.087239415614)"
      ]
     },
     "execution_count": 22,
     "metadata": {},
     "output_type": "execute_result"
    }
   ],
   "source": [
    "np.linalg.norm(x), np.linalg.norm(y)"
   ]
  },
  {
   "cell_type": "code",
   "execution_count": 23,
   "metadata": {},
   "outputs": [
    {
     "data": {
      "text/plain": [
       "1250.6696992541235"
      ]
     },
     "execution_count": 23,
     "metadata": {},
     "output_type": "execute_result"
    }
   ],
   "source": [
    "np.linalg.norm(x-y)"
   ]
  },
  {
   "cell_type": "code",
   "execution_count": 24,
   "metadata": {},
   "outputs": [
    {
     "data": {
      "text/plain": [
       "0.9940830052398306"
      ]
     },
     "execution_count": 24,
     "metadata": {},
     "output_type": "execute_result"
    }
   ],
   "source": [
    "np.corrcoef(x, y)[0,1]"
   ]
  },
  {
   "cell_type": "code",
   "execution_count": 25,
   "metadata": {
    "scrolled": true
   },
   "outputs": [
    {
     "data": {
      "text/plain": [
       "array([100.9138974 , -22.66697873,   3.62437276])"
      ]
     },
     "execution_count": 25,
     "metadata": {},
     "output_type": "execute_result"
    }
   ],
   "source": [
    "X = np.c_[np.ones_like(x), x, x**2]\n",
    "np.linalg.lstsq(X, y, rcond=None)[0]"
   ]
  },
  {
   "cell_type": "markdown",
   "metadata": {},
   "source": [
    "**Note**: Remember to indicate the location of the eigen3 headers using the `-I` flag"
   ]
  },
  {
   "cell_type": "code",
   "execution_count": 245,
   "metadata": {},
   "outputs": [
    {
     "name": "stdout",
     "output_type": "stream",
     "text": [
      "Overwriting q7.cpp\n"
     ]
    }
   ],
   "source": [
    "%%file q7.cpp\n",
    "#include <iostream>\n",
    "#include <fstream>\n",
    "#include <random>\n",
    "#include <Eigen/Dense>\n",
    "#include <functional>\n",
    "#include <cmath>\n",
    "\n",
    "using std::cout;\n",
    "using std::endl;\n",
    "using std::ofstream;\n",
    "using std::pow; \n",
    "using std::default_random_engine;\n",
    "using std::normal_distribution;\n",
    "using std::bind;\n",
    "\n",
    "default_random_engine re{12345};\n",
    "normal_distribution<double> norm(0, 1);\n",
    "auto rnorm = bind(norm, re);\n",
    "\n",
    "double func(double x){\n",
    "    return 3*x*x-7*x+2;\n",
    "}\n",
    "int main() \n",
    "{\n",
    "    using namespace Eigen;\n",
    "    using namespace std;\n",
    "    \n",
    "    VectorXd x = VectorXd::LinSpaced(10, 10, 15);\n",
    "    VectorXd y(10);\n",
    "    for (int i=0; i<10; i++) {\n",
    "        y(i) = func(x(i)) + 10*rnorm();\n",
    "    }\n",
    "    cout << \"10 x-coordinates: \"<< x.transpose() << \"\\n\\n\";\n",
    "    cout << \"10 y-coordinates: \"<< y.transpose() << \"\\n\\n\";\n",
    "    cout << \"The distance is: \" << sqrt((x-y).transpose()*(x-y))<< endl;\n",
    "    \n",
    "    double cov = (x.rowwise() - x.colwise().mean()).transpose()*(y.rowwise() - y.colwise().mean());\n",
    "    double x_norm_sq = (x.rowwise() - x.colwise().mean()).transpose()*(x.rowwise() - x.colwise().mean());\n",
    "    double y_norm_sq = (y.rowwise() - y.colwise().mean()).transpose()*(y.rowwise() - y.colwise().mean());\n",
    "    double corr = cov / sqrt(x_norm_sq * y_norm_sq);\n",
    "    cout << \"The correlation is: \" << corr << endl;\n",
    "    \n",
    "    int m = 10, n = 3;\n",
    "    VectorXf coeff(n), b(m);\n",
    "    MatrixXf A(m,n);\n",
    "    for(int i=0; i<m; i++){\n",
    "        A(i,0) = 1;\n",
    "        A(i,1) = x(i);\n",
    "        A(i,2) = x(i)*x(i);\n",
    "        b(i) = y(i);\n",
    "    }\n",
    "    cout << \"The solution is: \" << A.jacobiSvd(ComputeThinU | ComputeThinV).solve(b).transpose() << endl;\n",
    "}"
   ]
  },
  {
   "cell_type": "code",
   "execution_count": 246,
   "metadata": {},
   "outputs": [],
   "source": [
    "%%bash\n",
    "\n",
    "g++ -o q7.exe q7.cpp -std=c++14 -I/usr/include/eigen3"
   ]
  },
  {
   "cell_type": "code",
   "execution_count": 247,
   "metadata": {},
   "outputs": [
    {
     "name": "stdout",
     "output_type": "stream",
     "text": [
      "10 x-coordinates:      10 10.5556 11.1111 11.6667 12.2222 12.7778 13.3333 13.8889 14.4444      15\n",
      "\n",
      "10 y-coordinates: 233.118 256.464 288.336  334.49 359.992 406.205 435.374  476.11 528.573 577.913\n",
      "\n",
      "The distance is: 1240.97\n",
      "The correlation is: 0.99626\n",
      "The solution is:  92.2188 -22.5769  3.65027\n"
     ]
    }
   ],
   "source": [
    "%%bash\n",
    "\n",
    "./q7.exe"
   ]
  }
 ],
 "metadata": {
  "kernelspec": {
   "display_name": "Python 3",
   "language": "python",
   "name": "python3"
  },
  "language_info": {
   "codemirror_mode": {
    "name": "ipython",
    "version": 3
   },
   "file_extension": ".py",
   "mimetype": "text/x-python",
   "name": "python",
   "nbconvert_exporter": "python",
   "pygments_lexer": "ipython3",
   "version": "3.6.3"
  }
 },
 "nbformat": 4,
 "nbformat_minor": 2
}
