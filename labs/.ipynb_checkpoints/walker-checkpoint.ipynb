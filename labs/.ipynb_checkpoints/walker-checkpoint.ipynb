{
 "cells": [
  {
   "cell_type": "code",
   "execution_count": 2,
   "metadata": {},
   "outputs": [
    {
     "data": {
      "image/png": "[encoded data removed]",
      "text/plain": [
       "<matplotlib.figure.Figure at 0x7fc0e107c9b0>"
      ]
     },
     "metadata": {},
     "output_type": "display_data"
    }
   ],
   "source": [
    "import numpy as np\n",
    "import matplotlib.pyplot as plt\n",
    "nwalkers=150\n",
    "width=300\n",
    "height=150\n",
    "seed=123\n",
    "def neighbor(matrix,i,j):\n",
    "    x = [-1,0,1]\n",
    "    y = [-1,0,1]\n",
    "    for m in x:\n",
    "        for n in y:\n",
    "            if(m!=0 or n!=0):                \n",
    "                if((i+m>=0 and i+m<matrix.shape[0]) and (j+n>=0)and(j+n<matrix.shape[1])):\n",
    "                    if matrix[i+m,j+n]>0: \n",
    "                        return True\n",
    "    return False\n",
    "def update(matrix,i,width):\n",
    "    stay = []\n",
    "    for j in range(width):\n",
    "        if(matrix[i,j]>0):\n",
    "            if(neighbor(matrix,i,j)): \n",
    "                stay.append((i,j))\n",
    "    for j in range(width):\n",
    "        if matrix[i,j] > 0:\n",
    "            if (i,j) not in stay:\n",
    "                for k in range(matrix[i,j]):\n",
    "                    update_j = j + np.random.binomial(1,0.5)*2-1\n",
    "                    update_i = i + 1\n",
    "                    if(update_j>=0 and update_j<width):\n",
    "                        matrix[update_i,update_j] += 1\n",
    "                matrix[i,j] = 0\n",
    "    return matrix\n",
    "\n",
    "def dla(nwalkers, width, height, seed):\n",
    "    np.random.seed(seed)\n",
    "    matrix = np.zeros((height+1,width),dtype=int)\n",
    "    index = np.random.randint(0,width,nwalkers)\n",
    "    for idx in index:\n",
    "        matrix[0,idx]+=1\n",
    "    for i in range(height):\n",
    "        matrix = update(matrix,i,width)\n",
    "    return matrix\n",
    "matrix = dla(nwalkers, width, height, seed)\n",
    "plt.imshow(matrix)\n",
    "pass"
   ]
  }
 ],
 "metadata": {
  "kernelspec": {
   "display_name": "Python 3",
   "language": "python",
   "name": "python3"
  },
  "language_info": {
   "codemirror_mode": {
    "name": "ipython",
    "version": 3
   },
   "file_extension": ".py",
   "mimetype": "text/x-python",
   "name": "python",
   "nbconvert_exporter": "python",
   "pygments_lexer": "ipython3",
   "version": "3.6.3"
  }
 },
 "nbformat": 4,
 "nbformat_minor": 2
}
