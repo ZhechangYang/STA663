{
 "cells": [
  {
   "cell_type": "markdown",
   "metadata": {},
   "source": [
    "# Supplementary Practice Problems\n",
    "\n",
    "These are similar to programming problems you may encounter in the mid-terms. They are not graded but we will review them in lab sessions."
   ]
  },
  {
   "cell_type": "markdown",
   "metadata": {},
   "source": [
    "**1**. (10 points) Normalize the $3 \\times 4$ diagonal matrix with diagonal (1, ,2, 3) so all rows have mean 0 and standard deviation 1. The matrix has 0 everywhere not on the diagonal."
   ]
  },
  {
   "cell_type": "code",
   "execution_count": 2,
   "metadata": {},
   "outputs": [
    {
     "data": {
      "text/plain": [
       "array([[1., 0., 0., 0.],\n",
       "       [0., 2., 0., 0.],\n",
       "       [0., 0., 3., 0.]])"
      ]
     },
     "execution_count": 2,
     "metadata": {},
     "output_type": "execute_result"
    }
   ],
   "source": [
    "import numpy as np\n",
    "\n",
    "x = np.fromfunction(lambda i,j:np.where(i==j,i+1,0),(3,4))\n",
    "x"
   ]
  },
  {
   "cell_type": "code",
   "execution_count": 7,
   "metadata": {},
   "outputs": [
    {
     "data": {
      "text/plain": [
       "array([0.25, 0.5 , 0.75])"
      ]
     },
     "execution_count": 7,
     "metadata": {},
     "output_type": "execute_result"
    }
   ],
   "source": [
    "x.mean(axis=1)"
   ]
  },
  {
   "cell_type": "code",
   "execution_count": 20,
   "metadata": {},
   "outputs": [
    {
     "data": {
      "text/plain": [
       "array([[ 1.73205081, -0.57735027, -0.57735027, -0.57735027],\n",
       "       [-0.57735027,  1.73205081, -0.57735027, -0.57735027],\n",
       "       [-0.57735027, -0.57735027,  1.73205081, -0.57735027]])"
      ]
     },
     "execution_count": 20,
     "metadata": {},
     "output_type": "execute_result"
    }
   ],
   "source": [
    "(x-x.mean(axis=1)[:,None])/x.std(axis=1)[:,None]"
   ]
  },
  {
   "cell_type": "markdown",
   "metadata": {},
   "source": [
    "**2**. (10 points) A fixed point of a funciton is a value that remains the same when the funciton is applied to it, that is $f(x) = x$. Write a function that finds the fixed poitn of another function $f$ given an intiial value $x_0$. For example, if\n",
    "\n",
    "$$f(x) \\rightarrow \\sqrt{x}$$\n",
    "\n",
    "and \n",
    "\n",
    "$x_0$ is any positive real number, then the function should return 1 since\n",
    "\n",
    "$$\\sqrt{1} = 1$$\n",
    "\n",
    "Not all funcitons have a fixed point - if it taakes over 1,000 iterations, the fucntion shold return None.\n",
    "\n",
    "- Use the function signature `fixed_point(f, x0, max_iter=1000)`. \n",
    "- Test with `fixed_point(np.sqrt, 10)`."
   ]
  },
  {
   "cell_type": "code",
   "execution_count": 10,
   "metadata": {},
   "outputs": [
    {
     "data": {
      "text/plain": [
       "1"
      ]
     },
     "execution_count": 10,
     "metadata": {},
     "output_type": "execute_result"
    }
   ],
   "source": [
    "def fixed_point(f,x0,max_iter=1000):\n",
    "    x = x0\n",
    "    for i in range(max_iter):\n",
    "        if(np.abs(x - f(x))<1e-6):\n",
    "            return int(x)\n",
    "        else:\n",
    "            x = f(x)\n",
    "    return None\n",
    "fixed_point(np.sqrt,10)"
   ]
  },
  {
   "cell_type": "markdown",
   "metadata": {},
   "source": [
    "**3**. (10 points) Use `np.fromfunction` to construc the following matrices\n",
    "\n",
    "```python\n",
    "array([[5, 0, 0, 0, 5],\n",
    "       [0, 4, 0, 4, 0],\n",
    "       [0, 0, 3, 0, 0],\n",
    "       [0, 2, 0, 2, 0],\n",
    "       [1, 0, 0, 0, 1]])\n",
    "```\n",
    "\n",
    "```python\n",
    "array([[0, 1, 0, 0, 0, 0],\n",
    "       [1, 0, 1, 0, 0, 0],\n",
    "       [0, 1, 0, 1, 0, 0],\n",
    "       [0, 0, 1, 0, 1, 0],\n",
    "       [0, 0, 0, 1, 0, 1],\n",
    "       [0, 0, 0, 0, 1, 0]])\n",
    "```\n",
    "\n",
    "```python\n",
    "array([[6, 5, 4, 3, 4, 5, 6],\n",
    "       [5, 4, 3, 2, 3, 4, 5],\n",
    "       [4, 3, 2, 1, 2, 3, 4],\n",
    "       [3, 2, 1, 0, 1, 2, 3],\n",
    "       [4, 3, 2, 1, 2, 3, 4],\n",
    "       [5, 4, 3, 2, 3, 4, 5],\n",
    "       [6, 5, 4, 3, 4, 5, 6]])\n",
    "```"
   ]
  },
  {
   "cell_type": "code",
   "execution_count": 34,
   "metadata": {},
   "outputs": [
    {
     "data": {
      "text/plain": [
       "array([[5, 0, 0, 0, 5],\n",
       "       [0, 4, 0, 4, 0],\n",
       "       [0, 0, 3, 0, 0],\n",
       "       [0, 2, 0, 2, 0],\n",
       "       [1, 0, 0, 0, 1]])"
      ]
     },
     "execution_count": 34,
     "metadata": {},
     "output_type": "execute_result"
    }
   ],
   "source": [
    "np.fromfunction(lambda i,j: np.where((i==j)|(i+j==4),5-i,0),(5,5),dtype=int)"
   ]
  },
  {
   "cell_type": "markdown",
   "metadata": {},
   "source": [
    "**4**. (10 points) Read the `mtcars` data frame from R to a `pandas` DataFrame. Find the mean `wt` and `mpg` for all cars grouped by the number of `gear`s."
   ]
  },
  {
   "cell_type": "code",
   "execution_count": 36,
   "metadata": {},
   "outputs": [],
   "source": [
    "%load_ext rpy2.ipython"
   ]
  },
  {
   "cell_type": "code",
   "execution_count": 38,
   "metadata": {},
   "outputs": [
    {
     "data": {
      "text/plain": [
       "                   mpg cyl disp  hp drat    wt  qsec vs am gear carb\n",
       "Mazda RX4         21.0   6  160 110 3.90 2.620 16.46  0  1    4    4\n",
       "Mazda RX4 Wag     21.0   6  160 110 3.90 2.875 17.02  0  1    4    4\n",
       "Datsun 710        22.8   4  108  93 3.85 2.320 18.61  1  1    4    1\n",
       "Hornet 4 Drive    21.4   6  258 110 3.08 3.215 19.44  1  0    3    1\n",
       "Hornet Sportabout 18.7   8  360 175 3.15 3.440 17.02  0  0    3    2\n",
       "Valiant           18.1   6  225 105 2.76 3.460 20.22  1  0    3    1\n"
      ]
     },
     "metadata": {},
     "output_type": "display_data"
    }
   ],
   "source": [
    "%%R -o mtcars\n",
    "head(mtcars)"
   ]
  },
  {
   "cell_type": "code",
   "execution_count": 43,
   "metadata": {},
   "outputs": [
    {
     "data": {
      "text/html": [
       "<div>\n",
       "<style scoped>\n",
       "    .dataframe tbody tr th:only-of-type {\n",
       "        vertical-align: middle;\n",
       "    }\n",
       "\n",
       "    .dataframe tbody tr th {\n",
       "        vertical-align: top;\n",
       "    }\n",
       "\n",
       "    .dataframe thead th {\n",
       "        text-align: right;\n",
       "    }\n",
       "</style>\n",
       "<table border=\"1\" class=\"dataframe\">\n",
       "  <thead>\n",
       "    <tr style=\"text-align: right;\">\n",
       "      <th></th>\n",
       "      <th>wt</th>\n",
       "      <th>mpg</th>\n",
       "    </tr>\n",
       "    <tr>\n",
       "      <th>gear</th>\n",
       "      <th></th>\n",
       "      <th></th>\n",
       "    </tr>\n",
       "  </thead>\n",
       "  <tbody>\n",
       "    <tr>\n",
       "      <th>3.0</th>\n",
       "      <td>3.892600</td>\n",
       "      <td>16.106667</td>\n",
       "    </tr>\n",
       "    <tr>\n",
       "      <th>4.0</th>\n",
       "      <td>2.616667</td>\n",
       "      <td>24.533333</td>\n",
       "    </tr>\n",
       "    <tr>\n",
       "      <th>5.0</th>\n",
       "      <td>2.632600</td>\n",
       "      <td>21.380000</td>\n",
       "    </tr>\n",
       "  </tbody>\n",
       "</table>\n",
       "</div>"
      ],
      "text/plain": [
       "            wt        mpg\n",
       "gear                     \n",
       "3.0   3.892600  16.106667\n",
       "4.0   2.616667  24.533333\n",
       "5.0   2.632600  21.380000"
      ]
     },
     "execution_count": 43,
     "metadata": {},
     "output_type": "execute_result"
    }
   ],
   "source": [
    "mtcars.groupby('gear')['wt','mpg'].mean()"
   ]
  },
  {
   "cell_type": "markdown",
   "metadata": {},
   "source": [
    "**5**. (10 points) The QQ (Quirkiness Quotient) has a normal distribution with $\\mu$ = 100 and $\\sigma$ = 20. If your QQ is at the 92nd percentile, what is your QQ? \n",
    "\n",
    "- Solve this analytically using some distribution function\n",
    "- Solve this using a simulation of 1,000,000 people\n",
    "- Plot the QQ PDF for QQs between 40 and 160 as a blue curve, shading the region below your QQ in blue with 50% transparency."
   ]
  },
  {
   "cell_type": "code",
   "execution_count": 73,
   "metadata": {},
   "outputs": [
    {
     "data": {
      "text/plain": [
       "[1] 128.1014\n"
      ]
     },
     "metadata": {},
     "output_type": "display_data"
    }
   ],
   "source": [
    "%%R\n",
    "qnorm(0.92,100,20)"
   ]
  },
  {
   "cell_type": "code",
   "execution_count": 78,
   "metadata": {},
   "outputs": [
    {
     "data": {
      "text/plain": [
       "128.16538829796923"
      ]
     },
     "execution_count": 78,
     "metadata": {},
     "output_type": "execute_result"
    }
   ],
   "source": [
    "from scipy.stats import norm\n",
    "n = 1000000\n",
    "dist = norm(100,20)\n",
    "data = dist.rvs(n)\n",
    "data.sort()\n",
    "data[int(0.92*n)]"
   ]
  },
  {
   "cell_type": "code",
   "execution_count": 81,
   "metadata": {},
   "outputs": [
    {
     "data": {
      "image/png": "[encoded data removed]",
      "text/plain": [
       "<matplotlib.figure.Figure at 0x7f1f33702240>"
      ]
     },
     "metadata": {},
     "output_type": "display_data"
    }
   ],
   "source": [
    "%matplotlib inline\n",
    "import matplotlib.pyplot as plt\n",
    "\n",
    "x = np.linspace(40, 160, 100)\n",
    "plt.plot(x, dist.pdf(x), 'b-')\n",
    "x1 = np.linspace(40, data[int(0.92*n)], 100)\n",
    "plt.fill_between(x1, dist.pdf(x1), 'b', alpha=0.5)\n",
    "pass"
   ]
  },
  {
   "cell_type": "markdown",
   "metadata": {},
   "source": [
    "**6**. (10 points) Simulate $n$ coin toss experiments, in which you toss a coin $k$ times for each experiment. Find the maximum run length of heads (e.g. the sequence `T,T,H,H,H,T,H,H` has a maximum run length of 3 heads in each experiment. "
   ]
  },
  {
   "cell_type": "code",
   "execution_count": 88,
   "metadata": {},
   "outputs": [
    {
     "data": {
      "text/plain": [
       "array(['H', 'T', 'H', 'H', 'H', 'T', 'H', 'T', 'T', 'H'], dtype='<U1')"
      ]
     },
     "execution_count": 88,
     "metadata": {},
     "output_type": "execute_result"
    }
   ],
   "source": [
    "np.random.choice(['H','T'],10)"
   ]
  },
  {
   "cell_type": "markdown",
   "metadata": {},
   "source": [
    "**7**. (10 points) Use the DNA sequence given below to answer these questions:\n",
    "\n",
    "- Generate all sequences formed using a shifting window of size 3 and print the sequence with the highest count. If there are ties, print all the tied sequences. Do not use any import statement."
   ]
  },
  {
   "cell_type": "code",
   "execution_count": 89,
   "metadata": {},
   "outputs": [],
   "source": [
    "dna = '''\n",
    "TCGGATGATTGCACTTATTCTCCGTTTGTTTGTGTGTTGCTGGGGGGGGACGCCTGCACGCTGTTCCAGTGCGTCGTCGT\n",
    "ATCTTGGTTTGCCTCGGGGGGTGGGGCTGGAGCCTACCAGGTGTCGGTCGGATGTTTTGTCTCTGTGTGTCGAGGGTCGT\n",
    "GTGGAGTCCCGGCGGGTGGGTGCTGCTGGGTGGTTGACACAGTGCGTGGTGGGTGCTTCAGCGGGGGGTGCCTCGCGCGT\n",
    "GGCTGGGGTGTTGTAGTTGTCGTTTGGAAAGTGTGCGGCATAGGGGGGATGAAATCCGGTTGACCAAGATTCGGGTCGCG\n",
    "TTTGGGGATTAGGATAGTTGGGTTTGGAAGGCGCGGGTATTGCCCACGTTCTTTGGCGGGGCGAGGGTGTTGGTACTCCA\n",
    "TGTCCAGGCCGCTTGCCTACGGACTGTAGAGGTTCGGGAGGCGCTGGCCGGCGTGTGTTCCCTAGGTTTTGAGATAAGAG\n",
    "'''"
   ]
  },
  {
   "cell_type": "code",
   "execution_count": 92,
   "metadata": {},
   "outputs": [
    {
     "data": {
      "text/plain": [
       "[('\\n', 'T', 'C'),\n",
       " ('T', 'C', 'G'),\n",
       " ('C', 'G', 'G'),\n",
       " ('G', 'G', 'A'),\n",
       " ('G', 'A', 'T'),\n",
       " ('A', 'T', 'G'),\n",
       " ('T', 'G', 'A'),\n",
       " ('G', 'A', 'T'),\n",
       " ('A', 'T', 'T'),\n",
       " ('T', 'T', 'G'),\n",
       " ('T', 'G', 'C'),\n",
       " ('G', 'C', 'A'),\n",
       " ('C', 'A', 'C'),\n",
       " ('A', 'C', 'T'),\n",
       " ('C', 'T', 'T'),\n",
       " ('T', 'T', 'A'),\n",
       " ('T', 'A', 'T'),\n",
       " ('A', 'T', 'T'),\n",
       " ('T', 'T', 'C'),\n",
       " ('T', 'C', 'T'),\n",
       " ('C', 'T', 'C'),\n",
       " ('T', 'C', 'C'),\n",
       " ('C', 'C', 'G'),\n",
       " ('C', 'G', 'T'),\n",
       " ('G', 'T', 'T'),\n",
       " ('T', 'T', 'T'),\n",
       " ('T', 'T', 'G'),\n",
       " ('T', 'G', 'T'),\n",
       " ('G', 'T', 'T'),\n",
       " ('T', 'T', 'T'),\n",
       " ('T', 'T', 'G'),\n",
       " ('T', 'G', 'T'),\n",
       " ('G', 'T', 'G'),\n",
       " ('T', 'G', 'T'),\n",
       " ('G', 'T', 'G'),\n",
       " ('T', 'G', 'T'),\n",
       " ('G', 'T', 'T'),\n",
       " ('T', 'T', 'G'),\n",
       " ('T', 'G', 'C'),\n",
       " ('G', 'C', 'T'),\n",
       " ('C', 'T', 'G'),\n",
       " ('T', 'G', 'G'),\n",
       " ('G', 'G', 'G'),\n",
       " ('G', 'G', 'G'),\n",
       " ('G', 'G', 'G'),\n",
       " ('G', 'G', 'G'),\n",
       " ('G', 'G', 'G'),\n",
       " ('G', 'G', 'G'),\n",
       " ('G', 'G', 'A'),\n",
       " ('G', 'A', 'C'),\n",
       " ('A', 'C', 'G'),\n",
       " ('C', 'G', 'C'),\n",
       " ('G', 'C', 'C'),\n",
       " ('C', 'C', 'T'),\n",
       " ('C', 'T', 'G'),\n",
       " ('T', 'G', 'C'),\n",
       " ('G', 'C', 'A'),\n",
       " ('C', 'A', 'C'),\n",
       " ('A', 'C', 'G'),\n",
       " ('C', 'G', 'C'),\n",
       " ('G', 'C', 'T'),\n",
       " ('C', 'T', 'G'),\n",
       " ('T', 'G', 'T'),\n",
       " ('G', 'T', 'T'),\n",
       " ('T', 'T', 'C'),\n",
       " ('T', 'C', 'C'),\n",
       " ('C', 'C', 'A'),\n",
       " ('C', 'A', 'G'),\n",
       " ('A', 'G', 'T'),\n",
       " ('G', 'T', 'G'),\n",
       " ('T', 'G', 'C'),\n",
       " ('G', 'C', 'G'),\n",
       " ('C', 'G', 'T'),\n",
       " ('G', 'T', 'C'),\n",
       " ('T', 'C', 'G'),\n",
       " ('C', 'G', 'T'),\n",
       " ('G', 'T', 'C'),\n",
       " ('T', 'C', 'G'),\n",
       " ('C', 'G', 'T'),\n",
       " ('G', 'T', '\\n'),\n",
       " ('T', '\\n', 'A'),\n",
       " ('\\n', 'A', 'T'),\n",
       " ('A', 'T', 'C'),\n",
       " ('T', 'C', 'T'),\n",
       " ('C', 'T', 'T'),\n",
       " ('T', 'T', 'G'),\n",
       " ('T', 'G', 'G'),\n",
       " ('G', 'G', 'T'),\n",
       " ('G', 'T', 'T'),\n",
       " ('T', 'T', 'T'),\n",
       " ('T', 'T', 'G'),\n",
       " ('T', 'G', 'C'),\n",
       " ('G', 'C', 'C'),\n",
       " ('C', 'C', 'T'),\n",
       " ('C', 'T', 'C'),\n",
       " ('T', 'C', 'G'),\n",
       " ('C', 'G', 'G'),\n",
       " ('G', 'G', 'G'),\n",
       " ('G', 'G', 'G'),\n",
       " ('G', 'G', 'G'),\n",
       " ('G', 'G', 'G'),\n",
       " ('G', 'G', 'T'),\n",
       " ('G', 'T', 'G'),\n",
       " ('T', 'G', 'G'),\n",
       " ('G', 'G', 'G'),\n",
       " ('G', 'G', 'G'),\n",
       " ('G', 'G', 'C'),\n",
       " ('G', 'C', 'T'),\n",
       " ('C', 'T', 'G'),\n",
       " ('T', 'G', 'G'),\n",
       " ('G', 'G', 'A'),\n",
       " ('G', 'A', 'G'),\n",
       " ('A', 'G', 'C'),\n",
       " ('G', 'C', 'C'),\n",
       " ('C', 'C', 'T'),\n",
       " ('C', 'T', 'A'),\n",
       " ('T', 'A', 'C'),\n",
       " ('A', 'C', 'C'),\n",
       " ('C', 'C', 'A'),\n",
       " ('C', 'A', 'G'),\n",
       " ('A', 'G', 'G'),\n",
       " ('G', 'G', 'T'),\n",
       " ('G', 'T', 'G'),\n",
       " ('T', 'G', 'T'),\n",
       " ('G', 'T', 'C'),\n",
       " ('T', 'C', 'G'),\n",
       " ('C', 'G', 'G'),\n",
       " ('G', 'G', 'T'),\n",
       " ('G', 'T', 'C'),\n",
       " ('T', 'C', 'G'),\n",
       " ('C', 'G', 'G'),\n",
       " ('G', 'G', 'A'),\n",
       " ('G', 'A', 'T'),\n",
       " ('A', 'T', 'G'),\n",
       " ('T', 'G', 'T'),\n",
       " ('G', 'T', 'T'),\n",
       " ('T', 'T', 'T'),\n",
       " ('T', 'T', 'T'),\n",
       " ('T', 'T', 'G'),\n",
       " ('T', 'G', 'T'),\n",
       " ('G', 'T', 'C'),\n",
       " ('T', 'C', 'T'),\n",
       " ('C', 'T', 'C'),\n",
       " ('T', 'C', 'T'),\n",
       " ('C', 'T', 'G'),\n",
       " ('T', 'G', 'T'),\n",
       " ('G', 'T', 'G'),\n",
       " ('T', 'G', 'T'),\n",
       " ('G', 'T', 'G'),\n",
       " ('T', 'G', 'T'),\n",
       " ('G', 'T', 'C'),\n",
       " ('T', 'C', 'G'),\n",
       " ('C', 'G', 'A'),\n",
       " ('G', 'A', 'G'),\n",
       " ('A', 'G', 'G'),\n",
       " ('G', 'G', 'G'),\n",
       " ('G', 'G', 'T'),\n",
       " ('G', 'T', 'C'),\n",
       " ('T', 'C', 'G'),\n",
       " ('C', 'G', 'T'),\n",
       " ('G', 'T', '\\n'),\n",
       " ('T', '\\n', 'G'),\n",
       " ('\\n', 'G', 'T'),\n",
       " ('G', 'T', 'G'),\n",
       " ('T', 'G', 'G'),\n",
       " ('G', 'G', 'A'),\n",
       " ('G', 'A', 'G'),\n",
       " ('A', 'G', 'T'),\n",
       " ('G', 'T', 'C'),\n",
       " ('T', 'C', 'C'),\n",
       " ('C', 'C', 'C'),\n",
       " ('C', 'C', 'G'),\n",
       " ('C', 'G', 'G'),\n",
       " ('G', 'G', 'C'),\n",
       " ('G', 'C', 'G'),\n",
       " ('C', 'G', 'G'),\n",
       " ('G', 'G', 'G'),\n",
       " ('G', 'G', 'T'),\n",
       " ('G', 'T', 'G'),\n",
       " ('T', 'G', 'G'),\n",
       " ('G', 'G', 'G'),\n",
       " ('G', 'G', 'T'),\n",
       " ('G', 'T', 'G'),\n",
       " ('T', 'G', 'C'),\n",
       " ('G', 'C', 'T'),\n",
       " ('C', 'T', 'G'),\n",
       " ('T', 'G', 'C'),\n",
       " ('G', 'C', 'T'),\n",
       " ('C', 'T', 'G'),\n",
       " ('T', 'G', 'G'),\n",
       " ('G', 'G', 'G'),\n",
       " ('G', 'G', 'T'),\n",
       " ('G', 'T', 'G'),\n",
       " ('T', 'G', 'G'),\n",
       " ('G', 'G', 'T'),\n",
       " ('G', 'T', 'T'),\n",
       " ('T', 'T', 'G'),\n",
       " ('T', 'G', 'A'),\n",
       " ('G', 'A', 'C'),\n",
       " ('A', 'C', 'A'),\n",
       " ('C', 'A', 'C'),\n",
       " ('A', 'C', 'A'),\n",
       " ('C', 'A', 'G'),\n",
       " ('A', 'G', 'T'),\n",
       " ('G', 'T', 'G'),\n",
       " ('T', 'G', 'C'),\n",
       " ('G', 'C', 'G'),\n",
       " ('C', 'G', 'T'),\n",
       " ('G', 'T', 'G'),\n",
       " ('T', 'G', 'G'),\n",
       " ('G', 'G', 'T'),\n",
       " ('G', 'T', 'G'),\n",
       " ('T', 'G', 'G'),\n",
       " ('G', 'G', 'G'),\n",
       " ('G', 'G', 'T'),\n",
       " ('G', 'T', 'G'),\n",
       " ('T', 'G', 'C'),\n",
       " ('G', 'C', 'T'),\n",
       " ('C', 'T', 'T'),\n",
       " ('T', 'T', 'C'),\n",
       " ('T', 'C', 'A'),\n",
       " ('C', 'A', 'G'),\n",
       " ('A', 'G', 'C'),\n",
       " ('G', 'C', 'G'),\n",
       " ('C', 'G', 'G'),\n",
       " ('G', 'G', 'G'),\n",
       " ('G', 'G', 'G'),\n",
       " ('G', 'G', 'G'),\n",
       " ('G', 'G', 'G'),\n",
       " ('G', 'G', 'T'),\n",
       " ('G', 'T', 'G'),\n",
       " ('T', 'G', 'C'),\n",
       " ('G', 'C', 'C'),\n",
       " ('C', 'C', 'T'),\n",
       " ('C', 'T', 'C'),\n",
       " ('T', 'C', 'G'),\n",
       " ('C', 'G', 'C'),\n",
       " ('G', 'C', 'G'),\n",
       " ('C', 'G', 'C'),\n",
       " ('G', 'C', 'G'),\n",
       " ('C', 'G', 'T'),\n",
       " ('G', 'T', '\\n'),\n",
       " ('T', '\\n', 'G'),\n",
       " ('\\n', 'G', 'G'),\n",
       " ('G', 'G', 'C'),\n",
       " ('G', 'C', 'T'),\n",
       " ('C', 'T', 'G'),\n",
       " ('T', 'G', 'G'),\n",
       " ('G', 'G', 'G'),\n",
       " ('G', 'G', 'G'),\n",
       " ('G', 'G', 'T'),\n",
       " ('G', 'T', 'G'),\n",
       " ('T', 'G', 'T'),\n",
       " ('G', 'T', 'T'),\n",
       " ('T', 'T', 'G'),\n",
       " ('T', 'G', 'T'),\n",
       " ('G', 'T', 'A'),\n",
       " ('T', 'A', 'G'),\n",
       " ('A', 'G', 'T'),\n",
       " ('G', 'T', 'T'),\n",
       " ('T', 'T', 'G'),\n",
       " ('T', 'G', 'T'),\n",
       " ('G', 'T', 'C'),\n",
       " ('T', 'C', 'G'),\n",
       " ('C', 'G', 'T'),\n",
       " ('G', 'T', 'T'),\n",
       " ('T', 'T', 'T'),\n",
       " ('T', 'T', 'G'),\n",
       " ('T', 'G', 'G'),\n",
       " ('G', 'G', 'A'),\n",
       " ('G', 'A', 'A'),\n",
       " ('A', 'A', 'A'),\n",
       " ('A', 'A', 'G'),\n",
       " ('A', 'G', 'T'),\n",
       " ('G', 'T', 'G'),\n",
       " ('T', 'G', 'T'),\n",
       " ('G', 'T', 'G'),\n",
       " ('T', 'G', 'C'),\n",
       " ('G', 'C', 'G'),\n",
       " ('C', 'G', 'G'),\n",
       " ('G', 'G', 'C'),\n",
       " ('G', 'C', 'A'),\n",
       " ('C', 'A', 'T'),\n",
       " ('A', 'T', 'A'),\n",
       " ('T', 'A', 'G'),\n",
       " ('A', 'G', 'G'),\n",
       " ('G', 'G', 'G'),\n",
       " ('G', 'G', 'G'),\n",
       " ('G', 'G', 'G'),\n",
       " ('G', 'G', 'G'),\n",
       " ('G', 'G', 'A'),\n",
       " ('G', 'A', 'T'),\n",
       " ('A', 'T', 'G'),\n",
       " ('T', 'G', 'A'),\n",
       " ('G', 'A', 'A'),\n",
       " ('A', 'A', 'A'),\n",
       " ('A', 'A', 'T'),\n",
       " ('A', 'T', 'C'),\n",
       " ('T', 'C', 'C'),\n",
       " ('C', 'C', 'G'),\n",
       " ('C', 'G', 'G'),\n",
       " ('G', 'G', 'T'),\n",
       " ('G', 'T', 'T'),\n",
       " ('T', 'T', 'G'),\n",
       " ('T', 'G', 'A'),\n",
       " ('G', 'A', 'C'),\n",
       " ('A', 'C', 'C'),\n",
       " ('C', 'C', 'A'),\n",
       " ('C', 'A', 'A'),\n",
       " ('A', 'A', 'G'),\n",
       " ('A', 'G', 'A'),\n",
       " ('G', 'A', 'T'),\n",
       " ('A', 'T', 'T'),\n",
       " ('T', 'T', 'C'),\n",
       " ('T', 'C', 'G'),\n",
       " ('C', 'G', 'G'),\n",
       " ('G', 'G', 'G'),\n",
       " ('G', 'G', 'T'),\n",
       " ('G', 'T', 'C'),\n",
       " ('T', 'C', 'G'),\n",
       " ('C', 'G', 'C'),\n",
       " ('G', 'C', 'G'),\n",
       " ('C', 'G', '\\n'),\n",
       " ('G', '\\n', 'T'),\n",
       " ('\\n', 'T', 'T'),\n",
       " ('T', 'T', 'T'),\n",
       " ('T', 'T', 'G'),\n",
       " ('T', 'G', 'G'),\n",
       " ('G', 'G', 'G'),\n",
       " ('G', 'G', 'G'),\n",
       " ('G', 'G', 'A'),\n",
       " ('G', 'A', 'T'),\n",
       " ('A', 'T', 'T'),\n",
       " ('T', 'T', 'A'),\n",
       " ('T', 'A', 'G'),\n",
       " ('A', 'G', 'G'),\n",
       " ('G', 'G', 'A'),\n",
       " ('G', 'A', 'T'),\n",
       " ('A', 'T', 'A'),\n",
       " ('T', 'A', 'G'),\n",
       " ('A', 'G', 'T'),\n",
       " ('G', 'T', 'T'),\n",
       " ('T', 'T', 'G'),\n",
       " ('T', 'G', 'G'),\n",
       " ('G', 'G', 'G'),\n",
       " ('G', 'G', 'T'),\n",
       " ('G', 'T', 'T'),\n",
       " ('T', 'T', 'T'),\n",
       " ('T', 'T', 'G'),\n",
       " ('T', 'G', 'G'),\n",
       " ('G', 'G', 'A'),\n",
       " ('G', 'A', 'A'),\n",
       " ('A', 'A', 'G'),\n",
       " ('A', 'G', 'G'),\n",
       " ('G', 'G', 'C'),\n",
       " ('G', 'C', 'G'),\n",
       " ('C', 'G', 'C'),\n",
       " ('G', 'C', 'G'),\n",
       " ('C', 'G', 'G'),\n",
       " ('G', 'G', 'G'),\n",
       " ('G', 'G', 'T'),\n",
       " ('G', 'T', 'A'),\n",
       " ('T', 'A', 'T'),\n",
       " ('A', 'T', 'T'),\n",
       " ('T', 'T', 'G'),\n",
       " ('T', 'G', 'C'),\n",
       " ('G', 'C', 'C'),\n",
       " ('C', 'C', 'C'),\n",
       " ('C', 'C', 'A'),\n",
       " ('C', 'A', 'C'),\n",
       " ('A', 'C', 'G'),\n",
       " ('C', 'G', 'T'),\n",
       " ('G', 'T', 'T'),\n",
       " ('T', 'T', 'C'),\n",
       " ('T', 'C', 'T'),\n",
       " ('C', 'T', 'T'),\n",
       " ('T', 'T', 'T'),\n",
       " ('T', 'T', 'G'),\n",
       " ('T', 'G', 'G'),\n",
       " ('G', 'G', 'C'),\n",
       " ('G', 'C', 'G'),\n",
       " ('C', 'G', 'G'),\n",
       " ('G', 'G', 'G'),\n",
       " ('G', 'G', 'G'),\n",
       " ('G', 'G', 'C'),\n",
       " ('G', 'C', 'G'),\n",
       " ('C', 'G', 'A'),\n",
       " ('G', 'A', 'G'),\n",
       " ('A', 'G', 'G'),\n",
       " ('G', 'G', 'G'),\n",
       " ('G', 'G', 'T'),\n",
       " ('G', 'T', 'G'),\n",
       " ('T', 'G', 'T'),\n",
       " ('G', 'T', 'T'),\n",
       " ('T', 'T', 'G'),\n",
       " ('T', 'G', 'G'),\n",
       " ('G', 'G', 'T'),\n",
       " ('G', 'T', 'A'),\n",
       " ('T', 'A', 'C'),\n",
       " ('A', 'C', 'T'),\n",
       " ('C', 'T', 'C'),\n",
       " ('T', 'C', 'C'),\n",
       " ('C', 'C', 'A'),\n",
       " ('C', 'A', '\\n'),\n",
       " ('A', '\\n', 'T'),\n",
       " ('\\n', 'T', 'G'),\n",
       " ('T', 'G', 'T'),\n",
       " ('G', 'T', 'C'),\n",
       " ('T', 'C', 'C'),\n",
       " ('C', 'C', 'A'),\n",
       " ('C', 'A', 'G'),\n",
       " ('A', 'G', 'G'),\n",
       " ('G', 'G', 'C'),\n",
       " ('G', 'C', 'C'),\n",
       " ('C', 'C', 'G'),\n",
       " ('C', 'G', 'C'),\n",
       " ('G', 'C', 'T'),\n",
       " ('C', 'T', 'T'),\n",
       " ('T', 'T', 'G'),\n",
       " ('T', 'G', 'C'),\n",
       " ('G', 'C', 'C'),\n",
       " ('C', 'C', 'T'),\n",
       " ('C', 'T', 'A'),\n",
       " ('T', 'A', 'C'),\n",
       " ('A', 'C', 'G'),\n",
       " ('C', 'G', 'G'),\n",
       " ('G', 'G', 'A'),\n",
       " ('G', 'A', 'C'),\n",
       " ('A', 'C', 'T'),\n",
       " ('C', 'T', 'G'),\n",
       " ('T', 'G', 'T'),\n",
       " ('G', 'T', 'A'),\n",
       " ('T', 'A', 'G'),\n",
       " ('A', 'G', 'A'),\n",
       " ('G', 'A', 'G'),\n",
       " ('A', 'G', 'G'),\n",
       " ('G', 'G', 'T'),\n",
       " ('G', 'T', 'T'),\n",
       " ('T', 'T', 'C'),\n",
       " ('T', 'C', 'G'),\n",
       " ('C', 'G', 'G'),\n",
       " ('G', 'G', 'G'),\n",
       " ('G', 'G', 'A'),\n",
       " ('G', 'A', 'G'),\n",
       " ('A', 'G', 'G'),\n",
       " ('G', 'G', 'C'),\n",
       " ('G', 'C', 'G'),\n",
       " ('C', 'G', 'C'),\n",
       " ('G', 'C', 'T'),\n",
       " ('C', 'T', 'G'),\n",
       " ('T', 'G', 'G'),\n",
       " ('G', 'G', 'C'),\n",
       " ('G', 'C', 'C'),\n",
       " ('C', 'C', 'G'),\n",
       " ('C', 'G', 'G'),\n",
       " ('G', 'G', 'C'),\n",
       " ('G', 'C', 'G'),\n",
       " ('C', 'G', 'T'),\n",
       " ('G', 'T', 'G'),\n",
       " ('T', 'G', 'T'),\n",
       " ('G', 'T', 'G'),\n",
       " ('T', 'G', 'T'),\n",
       " ('G', 'T', 'T'),\n",
       " ('T', 'T', 'C'),\n",
       " ('T', 'C', 'C'),\n",
       " ('C', 'C', 'C'),\n",
       " ('C', 'C', 'T'),\n",
       " ('C', 'T', 'A'),\n",
       " ('T', 'A', 'G'),\n",
       " ('A', 'G', 'G'),\n",
       " ('G', 'G', 'T'),\n",
       " ('G', 'T', 'T'),\n",
       " ('T', 'T', 'T'),\n",
       " ('T', 'T', 'T'),\n",
       " ('T', 'T', 'G'),\n",
       " ('T', 'G', 'A'),\n",
       " ('G', 'A', 'G'),\n",
       " ('A', 'G', 'A'),\n",
       " ('G', 'A', 'T'),\n",
       " ('A', 'T', 'A'),\n",
       " ('T', 'A', 'A'),\n",
       " ('A', 'A', 'G'),\n",
       " ('A', 'G', 'A'),\n",
       " ('G', 'A', 'G'),\n",
       " ('A', 'G', '\\n')]"
      ]
     },
     "execution_count": 92,
     "metadata": {},
     "output_type": "execute_result"
    }
   ],
   "source": [
    "import string\n",
    "table = str.maketrans('','',string.punctuation)\n",
    "dna = dna.translate(table)\n",
    "list(zip(dna[:], dna[1:], dna[2:]))"
   ]
  },
  {
   "cell_type": "code",
   "execution_count": 111,
   "metadata": {},
   "outputs": [
    {
     "data": {
      "text/plain": [
       "('GGG', 36)"
      ]
     },
     "execution_count": 111,
     "metadata": {},
     "output_type": "execute_result"
    }
   ],
   "source": [
    "import string\n",
    "dna = dna.replace('\\n','')\n",
    "d = {}\n",
    "for item in zip(dna[:], dna[1:], dna[2:]):\n",
    "    item = ''.join(item)\n",
    "    d[item] = d.get(item,0)+1\n",
    "\n",
    "sorted(d.items(),key=lambda x: x[1],reverse=True)[0]"
   ]
  },
  {
   "cell_type": "markdown",
   "metadata": {},
   "source": [
    "**8**. (10 points) Ignore spaces, case and punctuation when finding palindromes. Write code to find the palindromes among the 12 phrases below, returning the phrases that are palindromes in a list.\n",
    "\n",
    "```\n",
    "Daedalus: nine. Peninsula: dead.\n",
    "Dammit, I'm mad!\n",
    "Deliver me from evil.\n",
    "Dennis and Edna sinned.\n",
    "Devil never even lived.\n",
    "Deviled eggs sure taste good.\n",
    "Did Hannah see bees? Hannah did.\n",
    "Do geese see God?\n",
    "Do mice see God?\n",
    "Dogma: I am God\n",
    "Dogma: DNA makdes RNA makes protein.\n",
    "Dubya won? No way, bud.\n",
    "```"
   ]
  },
  {
   "cell_type": "code",
   "execution_count": 141,
   "metadata": {},
   "outputs": [
    {
     "name": "stdout",
     "output_type": "stream",
     "text": [
      "Daedalus: nine. Peninsula: dead.\n",
      "Dammit, I'm mad!\n",
      "Dennis and Edna sinned.\n",
      "Devil never even lived.\n",
      "Did Hannah see bees? Hannah did.\n",
      "Do geese see God?\n",
      "Dogma: I am God\n",
      "Dubya won? No way, bud.\n"
     ]
    }
   ],
   "source": [
    "import toolz as tz\n",
    "from toolz import curried as c\n",
    "text = '''\n",
    "Daedalus: nine. Peninsula: dead.\n",
    "Dammit, I'm mad!\n",
    "Deliver me from evil.\n",
    "Dennis and Edna sinned.\n",
    "Devil never even lived.\n",
    "Deviled eggs sure taste good.\n",
    "Did Hannah see bees? Hannah did.\n",
    "Do geese see God?\n",
    "Do mice see God?\n",
    "Dogma: I am God\n",
    "Dogma: DNA makdes RNA makes protein.\n",
    "Dubya won? No way, bud.\n",
    "'''\n",
    "table = str.maketrans(string.ascii_uppercase,string.ascii_lowercase,string.punctuation)\n",
    "text = text.strip().split('\\n')\n",
    "list(map(lambda x: x.translate(table),text))\n",
    "idx = tz.pipe(\n",
    "    text,\n",
    "    c.map(lambda x: x.translate(table)),\n",
    "    c.map(lambda x: x.replace(' ','')),\n",
    "    c.map(lambda x: True if x[::-1]==x else False),\n",
    "    list\n",
    ")\n",
    "for i in range(len(text)):\n",
    "    if idx[i]:\n",
    "        print(text[i])"
   ]
  }
 ],
 "metadata": {
  "kernelspec": {
   "display_name": "Python 3",
   "language": "python",
   "name": "python3"
  },
  "language_info": {
   "codemirror_mode": {
    "name": "ipython",
    "version": 3
   },
   "file_extension": ".py",
   "mimetype": "text/x-python",
   "name": "python",
   "nbconvert_exporter": "python",
   "pygments_lexer": "ipython3",
   "version": "3.6.3"
  }
 },
 "nbformat": 4,
 "nbformat_minor": 2
}
