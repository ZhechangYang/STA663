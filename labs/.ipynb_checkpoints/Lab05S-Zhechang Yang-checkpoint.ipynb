{
 "cells": [
  {
   "cell_type": "markdown",
   "metadata": {},
   "source": [
    "# Supplementary Practice Problems\n",
    "\n",
    "These are similar to programming problems you may encounter in the mid-terms. They are not graded but we will review them in lab sessions."
   ]
  },
  {
   "cell_type": "markdown",
   "metadata": {},
   "source": [
    "**1**. (10 points) The logistic map is defined by the following simple function\n",
    "\n",
    "$$\n",
    "f(x) = rx(1-x)\n",
    "$$\n",
    "\n",
    "For $x_0 = 0.1$ and $r = 4.0$, store the first 10 values of the iterated logistic map $x_{i+1} = rx_i(1-x_i)$ in a list. The first value in the list should be $x_0$."
   ]
  },
  {
   "cell_type": "code",
   "execution_count": 3,
   "metadata": {},
   "outputs": [
    {
     "name": "stdout",
     "output_type": "stream",
     "text": [
      "[0.1, 0.36000000000000004, 0.9216, 0.28901376000000006, 0.8219392261226498, 0.5854205387341974, 0.970813326249438, 0.11333924730376121, 0.4019738492975123, 0.9615634951138128]\n"
     ]
    }
   ],
   "source": [
    "res = []\n",
    "x = 0.1\n",
    "r = 4.0\n",
    "for i in range(10):\n",
    "    res.append(x)\n",
    "    x = r*x*(1-x)\n",
    "print(res)"
   ]
  },
  {
   "cell_type": "markdown",
   "metadata": {},
   "source": [
    "**2**. (10 points) Write a function to find the greatest common divisor (GCD) of 2 numbers using Euclid's algorithm.:\n",
    "\n",
    "\\begin{align}\n",
    "\\gcd(a,0) &= a \\\\\n",
    "\\gcd(a, b) &= \\gcd(b, a \\mod b)\n",
    "\\end{align}\n",
    "\n",
    "Find the GCD of 5797 and 190978. \n",
    "\n",
    "Now write a function to find the GCD given a collection of numbers.\n",
    "\n",
    "Find the GCD of (24, 48, 60, 120, 8)."
   ]
  },
  {
   "cell_type": "code",
   "execution_count": 5,
   "metadata": {},
   "outputs": [
    {
     "data": {
      "text/plain": [
       "17"
      ]
     },
     "execution_count": 5,
     "metadata": {},
     "output_type": "execute_result"
    }
   ],
   "source": [
    "def gcd(a,b):\n",
    "    if b==0: return a\n",
    "    else: return gcd(b,a%b)\n",
    "gcd(5797,190978)"
   ]
  },
  {
   "cell_type": "code",
   "execution_count": 11,
   "metadata": {},
   "outputs": [
    {
     "data": {
      "text/plain": [
       "4"
      ]
     },
     "execution_count": 11,
     "metadata": {},
     "output_type": "execute_result"
    }
   ],
   "source": [
    "input = [24, 48, 60, 120, 8]\n",
    "def gcd_collection(input):\n",
    "    prev = gcd(input[0],input[1])\n",
    "    for i in range(2,len(input)):\n",
    "        curr = gcd(prev,input[i])\n",
    "        prev = curr\n",
    "    return curr\n",
    "gcd_collection(input)"
   ]
  },
  {
   "cell_type": "markdown",
   "metadata": {},
   "source": [
    "**3**. (10 points) Find the least squares linear solution to the following data\n",
    "\n",
    "```\n",
    "y = [1,2,3,4]\n",
    "x1 = [1,2,3,4]\n",
    "x2 = [2,3,4,5]\n",
    "```\n",
    "\n",
    "That is, find the \"best\" intercept and slope for the variables `x1` and `x2`."
   ]
  },
  {
   "cell_type": "code",
   "execution_count": 9,
   "metadata": {},
   "outputs": [
    {
     "data": {
      "text/plain": [
       "(array([-0.33333333,  0.66666667,  0.33333333]),\n",
       " array([], dtype=float64),\n",
       " 2,\n",
       " array([9.34413269, 0.82896583, 0.        ]))"
      ]
     },
     "execution_count": 9,
     "metadata": {},
     "output_type": "execute_result"
    }
   ],
   "source": [
    "import numpy as np\n",
    "import scipy.linalg as la\n",
    "y = np.array([1,2,3,4])\n",
    "x1 = np.array([1,2,3,4]).reshape(4,1)\n",
    "x2 = np.array([2,3,4,5]).reshape(4,1)\n",
    "x0 = np.ones(4).reshape(4,1)\n",
    "X = np.c_[x0,x1,x2]\n",
    "la.lstsq(X,y)"
   ]
  },
  {
   "cell_type": "markdown",
   "metadata": {},
   "source": [
    "**4**. (10 points) Read the `mtcars` data frame from R to a `pandas` DataFrame. Find the mean `wt` and `mpg` for all cars grouped by the number of `gear`s."
   ]
  },
  {
   "cell_type": "code",
   "execution_count": 33,
   "metadata": {},
   "outputs": [
    {
     "data": {
      "text/html": [
       "<div>\n",
       "<style scoped>\n",
       "    .dataframe tbody tr th:only-of-type {\n",
       "        vertical-align: middle;\n",
       "    }\n",
       "\n",
       "    .dataframe tbody tr th {\n",
       "        vertical-align: top;\n",
       "    }\n",
       "\n",
       "    .dataframe thead th {\n",
       "        text-align: right;\n",
       "    }\n",
       "</style>\n",
       "<table border=\"1\" class=\"dataframe\">\n",
       "  <thead>\n",
       "    <tr style=\"text-align: right;\">\n",
       "      <th></th>\n",
       "      <th>wt</th>\n",
       "      <th>mpg</th>\n",
       "    </tr>\n",
       "    <tr>\n",
       "      <th>gear</th>\n",
       "      <th></th>\n",
       "      <th></th>\n",
       "    </tr>\n",
       "  </thead>\n",
       "  <tbody>\n",
       "    <tr>\n",
       "      <th>3.0</th>\n",
       "      <td>3.892600</td>\n",
       "      <td>16.106667</td>\n",
       "    </tr>\n",
       "    <tr>\n",
       "      <th>4.0</th>\n",
       "      <td>2.616667</td>\n",
       "      <td>24.533333</td>\n",
       "    </tr>\n",
       "    <tr>\n",
       "      <th>5.0</th>\n",
       "      <td>2.632600</td>\n",
       "      <td>21.380000</td>\n",
       "    </tr>\n",
       "  </tbody>\n",
       "</table>\n",
       "</div>"
      ],
      "text/plain": [
       "            wt        mpg\n",
       "gear                     \n",
       "3.0   3.892600  16.106667\n",
       "4.0   2.616667  24.533333\n",
       "5.0   2.632600  21.380000"
      ]
     },
     "execution_count": 33,
     "metadata": {},
     "output_type": "execute_result"
    }
   ],
   "source": [
    "from rpy2.robjects import r, pandas2ri\n",
    "pandas2ri.activate()\n",
    "r.data('mtcars')\n",
    "mtcars = r['mtcars']\n",
    "mtcars.groupby('gear').mean()[['wt','mpg']]"
   ]
  },
  {
   "cell_type": "markdown",
   "metadata": {},
   "source": [
    "**5**. (10 points) Read the `iris` data frame from R to a `pandas` DataFrame. Make a `seaborn` plot showing a linear regression of `Petal.Length` (y) against `Sepal.Length` (x). Make a separate regression line for each `Species`."
   ]
  },
  {
   "cell_type": "code",
   "execution_count": 36,
   "metadata": {},
   "outputs": [
    {
     "data": {
      "image/png": "[encoded data removed]",
      "text/plain": [
       "<matplotlib.figure.Figure at 0x7f025a1d2208>"
      ]
     },
     "metadata": {},
     "output_type": "display_data"
    }
   ],
   "source": [
    "import seaborn as sns\n",
    "from rpy2.robjects import r, pandas2ri\n",
    "pandas2ri.activate()\n",
    "r.data('iris')\n",
    "iris = r['iris']\n",
    "g = sns.lmplot(x=\"Sepal.Length\", y=\"Petal.Length\", hue = 'Species', data = iris)"
   ]
  },
  {
   "cell_type": "markdown",
   "metadata": {},
   "source": [
    "**6**. (10 points) Write a function that can flatten a nested list of arbitrary depth. Check that\n",
    "\n",
    "```python\n",
    "flatten([1,[2,3],[4,[5,[6,7],8],9],10,[11,12]])\n",
    "```\n",
    "\n",
    "returns\n",
    "\n",
    "```python\n",
    "[1,2,3,4,5,6,7,8,9,10,11,12]\n",
    "```\n",
    "\n",
    "For simplicity, assume that the only data structure you will encounter is a list. You can check if an item is a list by using \n",
    "\n",
    "```python\n",
    "isinstance(item, list)\n",
    "```"
   ]
  },
  {
   "cell_type": "code",
   "execution_count": 39,
   "metadata": {},
   "outputs": [
    {
     "data": {
      "text/plain": [
       "[1, [2, 3], [4, [5, [6, 7], 8], 9], 10, [11, 12]]"
      ]
     },
     "execution_count": 39,
     "metadata": {},
     "output_type": "execute_result"
    }
   ],
   "source": [
    "def flatten(l):\n",
    "    if not isinstance(l,list):\n",
    "        print('Not a list')\n",
    "        return None\n",
    "    else:\n",
    "        \n",
    "flatten([1,[2,3],[4,[5,[6,7],8],9],10,[11,12]])"
   ]
  },
  {
   "cell_type": "code",
   "execution_count": 11,
   "metadata": {},
   "outputs": [
    {
     "data": {
      "text/plain": [
       "[1, 2, 3, 4, 5, 6, 7, 8, 9, 10, 11, 12]"
      ]
     },
     "execution_count": 11,
     "metadata": {},
     "output_type": "execute_result"
    }
   ],
   "source": [
    "def flatten(l):\n",
    "    res = []\n",
    "    for element in l:\n",
    "        if isinstance(element, list):\n",
    "            for item in flatten(element):\n",
    "                res.append(item)\n",
    "        else:\n",
    "            res.append(element)\n",
    "    return res\n",
    "flatten([1,[2,3],[4,[5,[6,7],8],9],10,[11,12]])"
   ]
  },
  {
   "cell_type": "markdown",
   "metadata": {},
   "source": [
    "**7**. (10 points) Create the following table\n",
    "\n",
    "```python\n",
    "array([[  1,   0,   0,   0,   0,   0,   0,   0,   0,   0,   0],\n",
    "       [  1,   1,   0,   0,   0,   0,   0,   0,   0,   0,   0],\n",
    "       [  1,   2,   1,   0,   0,   0,   0,   0,   0,   0,   0],\n",
    "       [  1,   3,   3,   1,   0,   0,   0,   0,   0,   0,   0],\n",
    "       [  1,   4,   6,   4,   1,   0,   0,   0,   0,   0,   0],\n",
    "       [  1,   5,  10,  10,   5,   1,   0,   0,   0,   0,   0],\n",
    "       [  1,   6,  15,  20,  15,   6,   1,   0,   0,   0,   0],\n",
    "       [  1,   7,  21,  35,  35,  21,   7,   1,   0,   0,   0],\n",
    "       [  1,   8,  28,  56,  70,  56,  28,   8,   1,   0,   0],\n",
    "       [  1,   9,  36,  84, 126, 126,  84,  36,   9,   1,   0],\n",
    "       [  1,  10,  45, 120, 210, 252, 210, 120,  45,  10,   1]])\n",
    "```\n",
    "\n",
    "Start with the first row\n",
    "\n",
    "```\n",
    "[  1,   0,   0,   0,   0,   0,   0,   0,   0,   0,   0]\n",
    "```\n",
    "\n",
    "and build the subsequent rows using a simple rule that only depends on the previous row."
   ]
  },
  {
   "cell_type": "code",
   "execution_count": 55,
   "metadata": {},
   "outputs": [
    {
     "data": {
      "text/plain": [
       "array([[  1,   0,   0,   0,   0,   0,   0,   0,   0,   0,   0],\n",
       "       [  1,   1,   0,   0,   0,   0,   0,   0,   0,   0,   0],\n",
       "       [  1,   2,   1,   0,   0,   0,   0,   0,   0,   0,   0],\n",
       "       [  1,   3,   3,   1,   0,   0,   0,   0,   0,   0,   0],\n",
       "       [  1,   4,   6,   4,   1,   0,   0,   0,   0,   0,   0],\n",
       "       [  1,   5,  10,  10,   5,   1,   0,   0,   0,   0,   0],\n",
       "       [  1,   6,  15,  20,  15,   6,   1,   0,   0,   0,   0],\n",
       "       [  1,   7,  21,  35,  35,  21,   7,   1,   0,   0,   0],\n",
       "       [  1,   8,  28,  56,  70,  56,  28,   8,   1,   0,   0],\n",
       "       [  1,   9,  36,  84, 126, 126,  84,  36,   9,   1,   0],\n",
       "       [  1,  10,  45, 120, 210, 252, 210, 120,  45,  10,   1]])"
      ]
     },
     "execution_count": 55,
     "metadata": {},
     "output_type": "execute_result"
    }
   ],
   "source": [
    "matrix = np.fromfunction(lambda i,j: np.where((i==j) | (j==0), 1, 0), (11,11), dtype='int')\n",
    "for i in range(2,11):\n",
    "    for j in range(1,11):\n",
    "        matrix[i,j] = matrix[i-1,j]+matrix[i-1,j-1]\n",
    "matrix"
   ]
  },
  {
   "cell_type": "markdown",
   "metadata": {},
   "source": [
    "**8**. (10 points) Read the following data sets into DataFrames. \n",
    "\n",
    "- url1 = \"https://raw.github.com/vincentarelbundock/Rdatasets/master/csv/DAAG/hills.csv\"\n",
    "- url2 = \"https://raw.github.com/vincentarelbundock/Rdatasets/master/csv/DAAG/hills2000.csv\"\n",
    "\n",
    "Create a new DataFraem only containing the names present in both DataFrames. Drop the `timef` column and have a single column for `dist` , `climb` and `time` that shows the average value of the two DataFrames. The final DtataFrame will thus have 4 columns (name, dist, climb, time)."
   ]
  },
  {
   "cell_type": "code",
   "execution_count": 13,
   "metadata": {},
   "outputs": [
    {
     "data": {
      "text/html": [
       "<div>\n",
       "<style scoped>\n",
       "    .dataframe tbody tr th:only-of-type {\n",
       "        vertical-align: middle;\n",
       "    }\n",
       "\n",
       "    .dataframe tbody tr th {\n",
       "        vertical-align: top;\n",
       "    }\n",
       "\n",
       "    .dataframe thead th {\n",
       "        text-align: right;\n",
       "    }\n",
       "</style>\n",
       "<table border=\"1\" class=\"dataframe\">\n",
       "  <thead>\n",
       "    <tr style=\"text-align: right;\">\n",
       "      <th></th>\n",
       "      <th>Unnamed: 0</th>\n",
       "      <th>dist_x</th>\n",
       "      <th>climb_x</th>\n",
       "      <th>time_x</th>\n",
       "      <th>dist_y</th>\n",
       "      <th>climb_y</th>\n",
       "      <th>time_y</th>\n",
       "    </tr>\n",
       "  </thead>\n",
       "  <tbody>\n",
       "    <tr>\n",
       "      <th>0</th>\n",
       "      <td>Craig Dunain</td>\n",
       "      <td>6.0</td>\n",
       "      <td>900</td>\n",
       "      <td>33.650</td>\n",
       "      <td>6.0</td>\n",
       "      <td>900</td>\n",
       "      <td>0.546111</td>\n",
       "    </tr>\n",
       "    <tr>\n",
       "      <th>1</th>\n",
       "      <td>Ben Lomond</td>\n",
       "      <td>8.0</td>\n",
       "      <td>3070</td>\n",
       "      <td>62.267</td>\n",
       "      <td>9.0</td>\n",
       "      <td>3192</td>\n",
       "      <td>1.037778</td>\n",
       "    </tr>\n",
       "    <tr>\n",
       "      <th>2</th>\n",
       "      <td>Goatfell</td>\n",
       "      <td>8.0</td>\n",
       "      <td>2866</td>\n",
       "      <td>73.217</td>\n",
       "      <td>8.0</td>\n",
       "      <td>2866</td>\n",
       "      <td>1.227778</td>\n",
       "    </tr>\n",
       "    <tr>\n",
       "      <th>3</th>\n",
       "      <td>Scolty</td>\n",
       "      <td>5.0</td>\n",
       "      <td>800</td>\n",
       "      <td>29.750</td>\n",
       "      <td>5.0</td>\n",
       "      <td>800</td>\n",
       "      <td>0.495833</td>\n",
       "    </tr>\n",
       "    <tr>\n",
       "      <th>4</th>\n",
       "      <td>Traprain</td>\n",
       "      <td>6.0</td>\n",
       "      <td>650</td>\n",
       "      <td>39.750</td>\n",
       "      <td>6.5</td>\n",
       "      <td>650</td>\n",
       "      <td>0.623889</td>\n",
       "    </tr>\n",
       "    <tr>\n",
       "      <th>5</th>\n",
       "      <td>Dollar</td>\n",
       "      <td>5.0</td>\n",
       "      <td>2000</td>\n",
       "      <td>43.050</td>\n",
       "      <td>6.0</td>\n",
       "      <td>2000</td>\n",
       "      <td>0.638333</td>\n",
       "    </tr>\n",
       "    <tr>\n",
       "      <th>6</th>\n",
       "      <td>Lomonds</td>\n",
       "      <td>9.5</td>\n",
       "      <td>2200</td>\n",
       "      <td>65.000</td>\n",
       "      <td>9.0</td>\n",
       "      <td>2200</td>\n",
       "      <td>1.053056</td>\n",
       "    </tr>\n",
       "    <tr>\n",
       "      <th>7</th>\n",
       "      <td>Black Hill</td>\n",
       "      <td>4.5</td>\n",
       "      <td>1000</td>\n",
       "      <td>17.417</td>\n",
       "      <td>4.0</td>\n",
       "      <td>600</td>\n",
       "      <td>0.447778</td>\n",
       "    </tr>\n",
       "    <tr>\n",
       "      <th>8</th>\n",
       "      <td>Meall Ant-Suidhe</td>\n",
       "      <td>3.5</td>\n",
       "      <td>1500</td>\n",
       "      <td>27.900</td>\n",
       "      <td>3.5</td>\n",
       "      <td>1500</td>\n",
       "      <td>0.465000</td>\n",
       "    </tr>\n",
       "    <tr>\n",
       "      <th>9</th>\n",
       "      <td>Creag Dubh</td>\n",
       "      <td>4.0</td>\n",
       "      <td>2000</td>\n",
       "      <td>26.217</td>\n",
       "      <td>3.0</td>\n",
       "      <td>1223</td>\n",
       "      <td>0.463889</td>\n",
       "    </tr>\n",
       "    <tr>\n",
       "      <th>10</th>\n",
       "      <td>Criffel</td>\n",
       "      <td>6.5</td>\n",
       "      <td>1750</td>\n",
       "      <td>50.500</td>\n",
       "      <td>7.0</td>\n",
       "      <td>1800</td>\n",
       "      <td>0.793333</td>\n",
       "    </tr>\n",
       "    <tr>\n",
       "      <th>11</th>\n",
       "      <td>Ben Nevis</td>\n",
       "      <td>10.0</td>\n",
       "      <td>4400</td>\n",
       "      <td>85.583</td>\n",
       "      <td>10.0</td>\n",
       "      <td>4400</td>\n",
       "      <td>1.426111</td>\n",
       "    </tr>\n",
       "    <tr>\n",
       "      <th>12</th>\n",
       "      <td>Knockfarrel</td>\n",
       "      <td>6.0</td>\n",
       "      <td>600</td>\n",
       "      <td>32.383</td>\n",
       "      <td>5.0</td>\n",
       "      <td>1200</td>\n",
       "      <td>0.623333</td>\n",
       "    </tr>\n",
       "    <tr>\n",
       "      <th>13</th>\n",
       "      <td>Two Breweries</td>\n",
       "      <td>18.0</td>\n",
       "      <td>5200</td>\n",
       "      <td>170.250</td>\n",
       "      <td>18.0</td>\n",
       "      <td>4900</td>\n",
       "      <td>2.565833</td>\n",
       "    </tr>\n",
       "  </tbody>\n",
       "</table>\n",
       "</div>"
      ],
      "text/plain": [
       "          Unnamed: 0  dist_x  climb_x   time_x  dist_y  climb_y    time_y\n",
       "0       Craig Dunain     6.0      900   33.650     6.0      900  0.546111\n",
       "1         Ben Lomond     8.0     3070   62.267     9.0     3192  1.037778\n",
       "2           Goatfell     8.0     2866   73.217     8.0     2866  1.227778\n",
       "3             Scolty     5.0      800   29.750     5.0      800  0.495833\n",
       "4           Traprain     6.0      650   39.750     6.5      650  0.623889\n",
       "5             Dollar     5.0     2000   43.050     6.0     2000  0.638333\n",
       "6            Lomonds     9.5     2200   65.000     9.0     2200  1.053056\n",
       "7         Black Hill     4.5     1000   17.417     4.0      600  0.447778\n",
       "8   Meall Ant-Suidhe     3.5     1500   27.900     3.5     1500  0.465000\n",
       "9         Creag Dubh     4.0     2000   26.217     3.0     1223  0.463889\n",
       "10           Criffel     6.5     1750   50.500     7.0     1800  0.793333\n",
       "11         Ben Nevis    10.0     4400   85.583    10.0     4400  1.426111\n",
       "12       Knockfarrel     6.0      600   32.383     5.0     1200  0.623333\n",
       "13     Two Breweries    18.0     5200  170.250    18.0     4900  2.565833"
      ]
     },
     "execution_count": 13,
     "metadata": {},
     "output_type": "execute_result"
    }
   ],
   "source": [
    "import pandas as pd\n",
    "url1 = \"https://raw.github.com/vincentarelbundock/Rdatasets/master/csv/DAAG/hills.csv\"\n",
    "url2 = \"https://raw.github.com/vincentarelbundock/Rdatasets/master/csv/DAAG/hills2000.csv\"\n",
    "data1 = pd.read_csv(url1)\n",
    "data2 = pd.read_csv(url2)\n",
    "data = pd.merge(data1,data2,on='Unnamed: 0')\n",
    "data.drop('timef',axis=1)"
   ]
  }
 ],
 "metadata": {
  "kernelspec": {
   "display_name": "Python 3",
   "language": "python",
   "name": "python3"
  },
  "language_info": {
   "codemirror_mode": {
    "name": "ipython",
    "version": 3
   },
   "file_extension": ".py",
   "mimetype": "text/x-python",
   "name": "python",
   "nbconvert_exporter": "python",
   "pygments_lexer": "ipython3",
   "version": "3.6.3"
  }
 },
 "nbformat": 4,
 "nbformat_minor": 2
}
